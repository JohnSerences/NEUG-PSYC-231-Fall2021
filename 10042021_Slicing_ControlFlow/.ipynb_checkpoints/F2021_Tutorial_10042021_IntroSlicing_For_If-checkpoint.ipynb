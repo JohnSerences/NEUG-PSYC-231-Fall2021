{
 "cells": [
  {
   "cell_type": "markdown",
   "metadata": {
    "colab_type": "text",
    "id": "4ErJ_4wJ2lIh"
   },
   "source": [
    "# In class tutorial for 10.04.2021\n",
    "* in, not in operator\n",
    "* boolean tests\n",
    "* range function\n",
    "* slicing lists\n",
    "* views vs copies of data\n",
    "* tuples\n",
    "* for loops\n",
    "* if...elif...else"
   ]
  },
  {
   "cell_type": "markdown",
   "metadata": {
    "colab_type": "text",
    "id": "bMDrXi5sT-Vo"
   },
   "source": [
    "## The in operator (and not in)\n",
    "* recall that can have mixed types in a list\n",
    "* boolean (True/False)"
   ]
  },
  {
   "cell_type": "code",
   "execution_count": 14,
   "metadata": {
    "colab": {},
    "colab_type": "code",
    "id": "VHempJJ4cjeL"
   },
   "outputs": [
    {
     "name": "stdout",
     "output_type": "stream",
     "text": [
      "[18, 'john', 'Kexin', 24]\n",
      "True\n",
      "False\n"
     ]
    }
   ],
   "source": [
    "a_lst = [18, 'john', 'Kexin', 24]\n",
    "print(a_lst)\n",
    "\n",
    "print(18 in a_lst)\n",
    "print('john' not in a_lst)"
   ]
  },
  {
   "cell_type": "markdown",
   "metadata": {
    "colab_type": "text",
    "id": "eZqCyupk4Cm3"
   },
   "source": [
    "## Slicing (indexing into lists)\n",
    "* use range to make a list of numbers!\n",
    "* start, stop, non-inclusive of stop point"
   ]
  },
  {
   "cell_type": "code",
   "execution_count": 3,
   "metadata": {
    "colab": {},
    "colab_type": "code",
    "id": "61SkPlBS4JTB"
   },
   "outputs": [],
   "source": [
    "x = list(range(0,15))"
   ]
  },
  {
   "cell_type": "code",
   "execution_count": null,
   "metadata": {},
   "outputs": [],
   "source": [
    "# pull the first three numbers - non inclusive!\n",
    "print(x[0:3])"
   ]
  },
  {
   "cell_type": "code",
   "execution_count": null,
   "metadata": {
    "colab": {},
    "colab_type": "code",
    "id": "n1wZ6dVUxDoI"
   },
   "outputs": [],
   "source": [
    "# same thing\n",
    "print(x[:3])"
   ]
  },
  {
   "cell_type": "code",
   "execution_count": 7,
   "metadata": {
    "colab": {},
    "colab_type": "code",
    "id": "qs_mvk2uxFMS"
   },
   "outputs": [
    {
     "name": "stdout",
     "output_type": "stream",
     "text": [
      "[2, 3, 4, 5, 6, 7, 8, 9, 10, 11, 12, 13, 14]\n"
     ]
    }
   ],
   "source": [
    "# 3rd to end\n",
    "print(x[2:])"
   ]
  },
  {
   "cell_type": "code",
   "execution_count": null,
   "metadata": {
    "colab": {},
    "colab_type": "code",
    "id": "9ynTQ7fmxGhx"
   },
   "outputs": [],
   "source": [
    "# last element\n",
    "print(x[-1])"
   ]
  },
  {
   "cell_type": "markdown",
   "metadata": {
    "colab_type": "text",
    "id": "YX_9pU7MxjFp"
   },
   "source": [
    "### start, stop, step...non-inclusive\n",
    "* can make the start and stop explicit, or can just use : if you want it all..."
   ]
  },
  {
   "cell_type": "code",
   "execution_count": null,
   "metadata": {
    "colab": {},
    "colab_type": "code",
    "id": "A8HIwJHoxH25"
   },
   "outputs": [],
   "source": [
    "# stepping through list of numbers - every other\n",
    "print(x[0:15:2])"
   ]
  },
  {
   "cell_type": "code",
   "execution_count": 11,
   "metadata": {
    "colab": {},
    "colab_type": "code",
    "id": "agszX3HrxJCh"
   },
   "outputs": [
    {
     "name": "stdout",
     "output_type": "stream",
     "text": [
      "[0, 2, 4, 6, 8, 10, 12, 14]\n",
      "[4, 6, 8, 10, 12, 14]\n"
     ]
    }
   ],
   "source": [
    "# same thing (start at begin of list, go to the end, step size of 2)\n",
    "print(x[::2])\n",
    "# print(x[4::2]) # specify just the start, go till end in steps of 2\n",
    "# print(x[:11:2]) # specify just the stop, start at first element. "
   ]
  },
  {
   "cell_type": "markdown",
   "metadata": {
    "colab_type": "text",
    "id": "cZEw-329yF2c"
   },
   "source": [
    "### Entire list, step size of -1, starting at the end\n",
    "* this reverses the list!\n"
   ]
  },
  {
   "cell_type": "code",
   "execution_count": null,
   "metadata": {
    "colab": {},
    "colab_type": "code",
    "id": "VLOP7ruzxKRJ"
   },
   "outputs": [],
   "source": [
    "print(x[::-1])"
   ]
  },
  {
   "cell_type": "code",
   "execution_count": null,
   "metadata": {
    "colab": {},
    "colab_type": "code",
    "id": "-q4EQDNRxPNl"
   },
   "outputs": [],
   "source": [
    "# step based on counting from the end\n",
    "print(x[::-2])"
   ]
  },
  {
   "cell_type": "markdown",
   "metadata": {
    "colab_type": "text",
    "id": "YxbWn9CBB9KD"
   },
   "source": [
    "## Views vs copies\n",
    "* views share the same data\n",
    "  * so changing one will change the other\n",
    "* copies have independent data\n",
    "  * so changing one will not impact the other"
   ]
  },
  {
   "cell_type": "code",
   "execution_count": null,
   "metadata": {
    "colab": {},
    "colab_type": "code",
    "id": "cP69FBch7cam"
   },
   "outputs": [],
   "source": [
    "# view vs copy\n",
    "\n",
    "# first create a list of numbers\n",
    "x = list(range(0,3))\n",
    "\n",
    "# create a view of the list\n",
    "# if you create a view, x and y will be referencing (looking at, referring to) the same data\n",
    "# here if you modify y, that will also change x\n",
    "y = x\n",
    "\n",
    "# should give the same output...\n",
    "print(x)\n",
    "print(y)\n",
    "   "
   ]
  },
  {
   "cell_type": "markdown",
   "metadata": {
    "colab_type": "text",
    "id": "_tWkeQj8232z"
   },
   "source": [
    "### Now modify y to see what happens to x\n",
    "* even though you don't explicitly change 'x', it changes because it refers to the same data as 'y'"
   ]
  },
  {
   "cell_type": "code",
   "execution_count": null,
   "metadata": {
    "colab": {},
    "colab_type": "code",
    "id": "f_WclS5ylNqx"
   },
   "outputs": [],
   "source": [
    "print('original x: ', x)\n",
    "y[0] = 10\n",
    "print('new x: ', x)\n",
    "print('new y: ', y)"
   ]
  },
  {
   "cell_type": "markdown",
   "metadata": {
    "colab_type": "text",
    "id": "Zm3z9CBylGnW"
   },
   "source": [
    "### **Copy** - independent variable that is separate from the original \n",
    "* slicing and then re-assigning to a new variable automatically makes a copy, not a view\n",
    "* can also use the copy() method"
   ]
  },
  {
   "cell_type": "code",
   "execution_count": null,
   "metadata": {
    "colab": {},
    "colab_type": "code",
    "id": "mELfEpQIlIw5"
   },
   "outputs": [],
   "source": [
    "# create a copy this time, which will make \n",
    "# an indepent object y that contains its own\n",
    "# copy of the data in x\n",
    "x = list(range(0,3))\n",
    "y = x[:]   # slicing makes a copy!\n",
    "# y = x.copy()  # so does the explicit use of the 'copy' method\n",
    "\n",
    "y[0] = 10\n",
    "\n",
    "print(x)\n",
    "print(y)"
   ]
  },
  {
   "cell_type": "markdown",
   "metadata": {
    "colab_type": "text",
    "id": "47sb723b9E8g"
   },
   "source": [
    "## Tuple object type\n",
    "* tuples are like lists, but they are immutable. \n",
    "* use the ()\n",
    "* can't sort as they are immutable (so no sort method), but can use the general 'sorted()' function\n"
   ]
  },
  {
   "cell_type": "code",
   "execution_count": null,
   "metadata": {
    "colab": {},
    "colab_type": "code",
    "id": "x03XRVZ19IL_"
   },
   "outputs": [],
   "source": [
    "# make a tuple using () (instead of [] for a list)\n",
    "a_tuple = ('john', 'enrique', 'mariela')\n",
    "\n",
    "print(a_tuple[1])"
   ]
  },
  {
   "cell_type": "code",
   "execution_count": null,
   "metadata": {},
   "outputs": [],
   "source": [
    "# can't modify contents\n",
    "a_tuple[0] = 'bob'\n",
    "print(a_tuple)"
   ]
  },
  {
   "cell_type": "code",
   "execution_count": null,
   "metadata": {},
   "outputs": [],
   "source": [
    "# but you can reasign it. \n",
    "a_tuple = ('adnan', 'shreya', 'ralph')\n",
    "print(a_tuple)"
   ]
  },
  {
   "cell_type": "markdown",
   "metadata": {
    "colab_type": "text",
    "id": "fPA85EBNgkt9"
   },
   "source": [
    "### Tuple packing/unpacking\n",
    "* When writing functions (will learn about soon), you can only return one variable\n",
    "* however, that variable can be a tuple, allowing you to actually return multiple variables, all packed into one tuple object\n",
    "* **need to be really careful when unpacking - if you get the wrong variable in the wrong place, it will still work but then you might swap name/age (or whatever your variables are)**"
   ]
  },
  {
   "cell_type": "code",
   "execution_count": null,
   "metadata": {
    "colab": {},
    "colab_type": "code",
    "id": "y79KKzrUgn-Z"
   },
   "outputs": [],
   "source": [
    "# set up a tuple to store user info: name, age, state of residence\n",
    "usr_data = ('John', 41, 'CA')\n",
    "print(usr_data)"
   ]
  },
  {
   "cell_type": "code",
   "execution_count": null,
   "metadata": {
    "colab": {},
    "colab_type": "code",
    "id": "xwwgm9YOgvQ8"
   },
   "outputs": [],
   "source": [
    "# unpack the tuple into the 'pieces'...\n",
    "(name, age, residence) = usr_data\n",
    "\n",
    "print('name:', name)\n",
    "print('age:', age)\n",
    "print('residence:', residence)"
   ]
  },
  {
   "cell_type": "code",
   "execution_count": null,
   "metadata": {},
   "outputs": [],
   "source": [
    "# bad\n",
    "(age, name, residence) = usr_data\n",
    "\n",
    "print('name:', name)\n",
    "print('age:', age)\n",
    "print('residence:', residence)"
   ]
  },
  {
   "cell_type": "markdown",
   "metadata": {
    "colab_type": "text",
    "id": "RUE4VKGlT2-a"
   },
   "source": [
    "## For loops\n",
    "* repeat an operation or set of operations a specified number of times \n",
    "* iterate over items in a sequence (e.g. a string, a list, etc)\n",
    "* syntax can be read: for each item in a sequence, do:\n",
    "* indentation super important!!!"
   ]
  },
  {
   "cell_type": "code",
   "execution_count": null,
   "metadata": {
    "colab": {},
    "colab_type": "code",
    "id": "7JZPqO7kYSuV"
   },
   "outputs": [],
   "source": [
    "# iterate over characters in a string\n",
    "for each_letter in 'funny things happen':\n",
    "    print(each_letter)"
   ]
  },
  {
   "cell_type": "code",
   "execution_count": null,
   "metadata": {},
   "outputs": [],
   "source": [
    "# importance of indentation \n",
    "for each_letter in 'funny things happen':\n",
    "print(each_letter)"
   ]
  },
  {
   "cell_type": "markdown",
   "metadata": {
    "colab_type": "text",
    "id": "-FKespeTyTJo"
   },
   "source": [
    "### Loop over elements in a list"
   ]
  },
  {
   "cell_type": "code",
   "execution_count": null,
   "metadata": {
    "colab": {},
    "colab_type": "code",
    "id": "Tz4eLFKLvHwc"
   },
   "outputs": [],
   "source": [
    "names = ['pauline', 'zhentao', 'mariela']\n",
    "\n",
    "for name in names:\n",
    "    print(name)"
   ]
  },
  {
   "cell_type": "markdown",
   "metadata": {},
   "source": [
    "### Apply a method to each item in a list"
   ]
  },
  {
   "cell_type": "code",
   "execution_count": null,
   "metadata": {},
   "outputs": [],
   "source": [
    "names = ['courtney', 'ayoung', 'madison']\n",
    "\n",
    "for name in names:\n",
    "  # print each name in title format\n",
    "  print(name.title())"
   ]
  },
  {
   "cell_type": "markdown",
   "metadata": {
    "colab_type": "text",
    "id": "loqF3_mdwIBi"
   },
   "source": [
    "### Generate an \"iterable\" set of numbers using the 'range' function\n",
    "* remember that range takes start, stop, step as inputs (or just start, stop)\n",
    "* list of numbers is **exclusive** of the stopping point"
   ]
  },
  {
   "cell_type": "code",
   "execution_count": null,
   "metadata": {
    "colab": {},
    "colab_type": "code",
    "id": "YCLlFZiKwpkC"
   },
   "outputs": [],
   "source": [
    "for i in range(0,5):\n",
    "    print((i*10)+5)"
   ]
  },
  {
   "cell_type": "markdown",
   "metadata": {
    "colab_type": "text",
    "id": "IA4ZVzRDyyrU"
   },
   "source": [
    "### Can use for other purposes as well\n",
    "* fill up a list with numbers, after doing some operation on the numbers\n",
    "* Introduce the 'append' method for list objects"
   ]
  },
  {
   "cell_type": "code",
   "execution_count": null,
   "metadata": {
    "colab": {},
    "colab_type": "code",
    "id": "QAHFiRvZy5J8"
   },
   "outputs": [],
   "source": [
    "lst_squares = [] # set up an empty list\n",
    "\n",
    "nums = range(0,6) # then a list of numbers to cube\n",
    "\n",
    "# then loop over the numbers and append the result to the list!\n",
    "for number in nums:\n",
    "    lst_squares.append(number**3)\n",
    "        \n",
    "print(lst_squares)"
   ]
  },
  {
   "cell_type": "markdown",
   "metadata": {
    "colab_type": "text",
    "id": "pSafi0oq0U87"
   },
   "source": [
    "### Use nested for loops to operate over all elements in multiple lists\n",
    "* in this example we'll make two lists of numbers and then will multiply every element of the first array with every element of the second array. "
   ]
  },
  {
   "cell_type": "code",
   "execution_count": null,
   "metadata": {
    "colab": {},
    "colab_type": "code",
    "id": "UtvWQNKtIJoD"
   },
   "outputs": [],
   "source": [
    "x = list(range(0,5))\n",
    "y = list(range(10,15))\n",
    "\n",
    "for num1 in x:\n",
    "    for num2 in y:\n",
    "        print(str(num1), str(num2), 'Product:', str(num1 * num2))"
   ]
  },
  {
   "cell_type": "markdown",
   "metadata": {
    "colab_type": "text",
    "id": "myZqtktqT1FK"
   },
   "source": [
    "## If...then statements\n",
    "* test a conditional statement, if true, then do one thing, if false, then do something else..."
   ]
  },
  {
   "cell_type": "code",
   "execution_count": null,
   "metadata": {
    "colab": {},
    "colab_type": "code",
    "id": "nJGkKEKGT9tU"
   },
   "outputs": [],
   "source": [
    "# simple example using if...else\n",
    "x = 5\n",
    "y = 3\n",
    "\n",
    "if (x < y):\n",
    "    print('harry wins!')\n",
    "else:\n",
    "    print('malfoy wins!')"
   ]
  },
  {
   "cell_type": "markdown",
   "metadata": {
    "colab_type": "text",
    "id": "I6EH2dHfWfKo"
   },
   "source": [
    "### Indentation matters!\n",
    "* Remember: indentation is how Python figures out which statements belong to which part of a if...else structure \n",
    "* there is no 'end' (like in Matlab) or start/stop characters like { } in C"
   ]
  },
  {
   "cell_type": "code",
   "execution_count": null,
   "metadata": {
    "colab": {},
    "colab_type": "code",
    "id": "tMG9RK-OWie-"
   },
   "outputs": [],
   "source": [
    "# simple example using if...else\n",
    "x = 5\n",
    "y = 2\n",
    "\n",
    "if (x < y):\n",
    "    print('thor wins!')\n",
    "\n",
    "else:\n",
    "    print('hulk wins!')\n",
    "\n",
    "print('En Dwi wins!')"
   ]
  },
  {
   "cell_type": "markdown",
   "metadata": {
    "colab_type": "text",
    "id": "1a3detXeUTPd"
   },
   "source": [
    "### If...elif...else syntax\n",
    "* used to test a series of conditionals"
   ]
  },
  {
   "cell_type": "code",
   "execution_count": null,
   "metadata": {
    "colab": {},
    "colab_type": "code",
    "id": "lilq2IJXT8VW"
   },
   "outputs": [],
   "source": [
    "# set up a if...else statement\n",
    "names = ['zhi', 'renita', 'blake', 'vy']\n",
    "\n",
    "# set up the if...else\n",
    "for n in names:\n",
    "    if n == names[0]:\n",
    "        print('hi')\n",
    "    elif n == names[1]:\n",
    "        print('hello there') \n",
    "    elif n == names[2]:\n",
    "        print('see you')\n",
    "    else: \n",
    "        print('who is that???')"
   ]
  },
  {
   "cell_type": "markdown",
   "metadata": {},
   "source": [
    "## Importing packages\n",
    "* expand the functionality of the core language by adding object types, functions, etc."
   ]
  },
  {
   "cell_type": "code",
   "execution_count": null,
   "metadata": {},
   "outputs": [],
   "source": [
    "# import specific function from package\n",
    "from random import randint"
   ]
  },
  {
   "cell_type": "code",
   "execution_count": null,
   "metadata": {},
   "outputs": [],
   "source": [
    "randint(0,10)"
   ]
  },
  {
   "cell_type": "markdown",
   "metadata": {},
   "source": [
    "### import function from package, give it an alias\n",
    "* can be handy to have a short name\n",
    "* there are standard aliases that you'll see everywhere, so can greatly improve readability\n",
    "* be careful not to give something an alias that is already in use! This will lead to the unravelling of space time and the implosion of the universe. "
   ]
  },
  {
   "cell_type": "code",
   "execution_count": null,
   "metadata": {},
   "outputs": [],
   "source": [
    "# ok usage...\n",
    "from random import randint as ri"
   ]
  },
  {
   "cell_type": "code",
   "execution_count": null,
   "metadata": {},
   "outputs": [],
   "source": [
    "ri(0,10)"
   ]
  },
  {
   "cell_type": "code",
   "execution_count": null,
   "metadata": {},
   "outputs": [],
   "source": [
    "# not ok usage...\n",
    "from random import randint as range"
   ]
  },
  {
   "cell_type": "code",
   "execution_count": null,
   "metadata": {},
   "outputs": [],
   "source": [
    "range(0,10)"
   ]
  },
  {
   "cell_type": "markdown",
   "metadata": {},
   "source": [
    "### import entire contents of a package\n",
    "* generally not advisable as you'll only need 1-2 functions, but can be handy sometimes"
   ]
  },
  {
   "cell_type": "code",
   "execution_count": 1,
   "metadata": {},
   "outputs": [],
   "source": [
    "from random import *"
   ]
  },
  {
   "cell_type": "code",
   "execution_count": 2,
   "metadata": {},
   "outputs": [
    {
     "data": {
      "text/plain": [
       "-0.31117921502594303"
      ]
     },
     "execution_count": 2,
     "metadata": {},
     "output_type": "execute_result"
    }
   ],
   "source": [
    "gauss(0,1) # random draw from gaussian with mean == 0 and sd == 1"
   ]
  },
  {
   "cell_type": "markdown",
   "metadata": {},
   "source": [
    "## Quick note about defining your own function\n",
    "* we'll do a lot of this, but basics now for use in problem set\n",
    "* remember to explicitly return the output of the function"
   ]
  },
  {
   "cell_type": "code",
   "execution_count": 12,
   "metadata": {},
   "outputs": [],
   "source": [
    "def add(x,y):\n",
    "    z = x+y\n",
    "    return z"
   ]
  },
  {
   "cell_type": "code",
   "execution_count": 13,
   "metadata": {},
   "outputs": [
    {
     "data": {
      "text/plain": [
       "5"
      ]
     },
     "execution_count": 13,
     "metadata": {},
     "output_type": "execute_result"
    }
   ],
   "source": [
    "add(2,3)"
   ]
  }
 ],
 "metadata": {
  "colab": {
   "collapsed_sections": [],
   "name": "Notes_01152020.ipynb",
   "provenance": []
  },
  "kernelspec": {
   "display_name": "Python 3",
   "language": "python",
   "name": "python3"
  },
  "language_info": {
   "codemirror_mode": {
    "name": "ipython",
    "version": 3
   },
   "file_extension": ".py",
   "mimetype": "text/x-python",
   "name": "python",
   "nbconvert_exporter": "python",
   "pygments_lexer": "ipython3",
   "version": "3.8.5"
  }
 },
 "nbformat": 4,
 "nbformat_minor": 1
}
