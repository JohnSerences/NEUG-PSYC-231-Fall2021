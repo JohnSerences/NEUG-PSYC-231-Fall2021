{
 "cells": [
  {
   "cell_type": "markdown",
   "metadata": {},
   "source": [
    "1) Make a list of numbers from 0 to 30 but only include every other number (counting by2’s). Your list      **should** include the number 30 (so: 0,2,4....30). Use slicing to:\n",
    "\n",
    "* a) Print out the first 4 numbers from the list.\n",
    "* b) Print out the last 4 numbers from the list.\n",
    "* c) Print out every other number, starting with the 3rd number and going to the endof the list\n",
    "* d) Print out the list backwards\n"
   ]
  },
  {
   "cell_type": "code",
   "execution_count": null,
   "metadata": {},
   "outputs": [],
   "source": []
  },
  {
   "cell_type": "markdown",
   "metadata": {},
   "source": [
    "2) Make a list of numbers that 0,1,2,3,4. Assign that list to the variable “lst1”. Then makeanother variable “lst2” and assign lst2 to take on the values of lst1.\n",
    "\n",
    "* a) Square the first value of lst1 and make sure that the value in the list is updated. For example, lst1[0]=lst1[0]**2.\n",
    "* b) Subtract 3 from the 3rd element of lst1 and make sure that the value in the list is updated (as in step a).\n",
    "* c) Test to see if the value -1 is in lst1 - True or False?\n",
    "* d) Test to see if the value 5 is not in lst1 - True or False?\n",
    "* e) If -1 is in lst2 then start over and follow the directions, but this time set up lst2 so that it does not change when you modify lst1."
   ]
  },
  {
   "cell_type": "code",
   "execution_count": null,
   "metadata": {},
   "outputs": [],
   "source": []
  },
  {
   "cell_type": "markdown",
   "metadata": {},
   "source": [
    "3) Roy and Pam want to create and maintain a list of the kids in the neighborhood. They also want to add the kids’ ages right after their respective names. Help Roy and Pam with this.\n",
    "* a) Make separate lists, each containing the name of the kid as the first item and ageof the kid as the second item. Eg. kid1 = [‘Sara’, 12]. Make 4 such lists.\n",
    "* b) Roy uses the concatenated list approach. He makes a master list called“concat_list” with contents of all lists as elements of the master_list. Eg. [‘Sara’,12, ‘Maya’, 13.........]. Make this list for Roy and print it. (Use lists created in part a)\n",
    "* c) Pam uses the “list in a list” approach. She makes the master list and calls it “list_in_list” and it looks like this : [[‘Sara’, 12], [‘Maya’, 13], ........]. Make this listfor Pam and print it. (Use lists created in part a)\n",
    "* d) They revisit the lists in two years and they both must increment the age of all kidsby two years now. Do this increment in both “concat_list” and “list_in_list” and print both.\n",
    "* e) They realise that one kid has left the neighbourhood. Delete one kid’s entry fromboth the lists and print updated lists.\n",
    "* f) There has been an addition of a new kid, Nate ( 5 years old ), to the neighborhood. Add his details to both lists and print updated lists."
   ]
  },
  {
   "cell_type": "code",
   "execution_count": null,
   "metadata": {},
   "outputs": [],
   "source": []
  },
  {
   "cell_type": "markdown",
   "metadata": {},
   "source": [
    "4) Imagine you are have a computer program that remembers each word you type for one minute and outputs the words you have typed as a list with each element being one word, but there is an inexplicable number of spaces at the end of each string. While you may be able to fix the program putting in these spaces in the first place, you challenge yourself programmatically determine the shortest word in the list and print it despite these spaces.\n",
    "\n",
    "**Note**: You solved this problem last week, but this week solve it using a for-loop. If you are like me, you may find this to be a more intuitive way to solve this problem. \n",
    "\n",
    "**Hint**: The sorted function has an optional argument key that you can pass a function to such that sorted uses that function to determine the order of sorting."
   ]
  },
  {
   "cell_type": "code",
   "execution_count": null,
   "metadata": {},
   "outputs": [],
   "source": [
    "words_lst = ['banana ', ' peanut  ', 'xylophone  ', 'aardvark  ', 'foot       ', 'python    ']"
   ]
  },
  {
   "cell_type": "markdown",
   "metadata": {},
   "source": [
    "5) You are an administrative assistant for a small company. As part of your job as an administrative assistant, you are in charge of payroll for the company's five employees. Each of the employees receives a 3% raise each year. Every five years that an employee is a part of the company, they receive a 5,000 USD increase to their salary on top of the 3% raise (the 3% is applied before the 5,000 USD bonus). \n",
    "\n",
    "The five employees are:\n",
    "* Petunia has been at the company 3 years and her salary is 55,000 USD\n",
    "* Severus has been at the company 16 years and his salary is 85,000 USD\n",
    "* Albus has been at the company 30 years and his salary is 115,000 USD\n",
    "* Ginny has been at the company 8 years and her salary is 75,000 USD\n",
    "* Harry just started at the company and his salary is 50,000 USD\n",
    "\n",
    "Here are your tasks:\n",
    "* a) Calculate and print the salary of each employee 5 years from now.\n",
    "* b) Determine and  print what the total payroll will in 20 years, assuming nobody new starts and nobody leaves the company.\n",
    "* c) Calculate and print the starting salary of each employee, assuming the same protocol for raises had been in place all along."
   ]
  },
  {
   "cell_type": "code",
   "execution_count": null,
   "metadata": {},
   "outputs": [],
   "source": []
  },
  {
   "cell_type": "markdown",
   "metadata": {},
   "source": [
    "6) The pandemic is over and you are lucky enough to be a contestant on the next season of The Amazing Race. You have traversed the world over the course of the first 11 legs, succeeding in each leg. Now, as the final leg and $1,000,000 lays on the line, you need to be at your best and make quick time. You know the final leg will take you back to the US, as it always does, but where should you be heading?\n",
    "\n",
    "* a) You are in Sydney, Australia, where the last leg finished, but have not been told where in the US to fly to. Instead, you have been given the following clue which you must decode: *nohj lrofo vfei cmglil lhla dusc*. It strikes you that they may have just scrambled the letters of each word. Fortunately, following the Neural Data Analysis class you took last fall, you are a Python aficionado and are able to borrow a computer form the local library in Sydney. You think you can use Python to brute force enumerate all the permutations of each word rather than trying to come up with the words on your own. A quick Google search helped you find the *permute_str* function below on Stack Overflow. Use this function and a for loop to print all the permutations for each word. \n",
    "* b) Looking through the permutations, can you figure out what each word should be? \n",
    "* c) One of the words should give away where you should be flying to. Once you figure this out, you hurry to schedule the soonest flight there from Sydney. Where will you be heading?"
   ]
  },
  {
   "cell_type": "code",
   "execution_count": null,
   "metadata": {},
   "outputs": [],
   "source": [
    "from itertools import permutations\n",
    "def permute_str(s):\n",
    "    return [''.join(p) for p in permutations(s)]"
   ]
  }
 ],
 "metadata": {
  "kernelspec": {
   "display_name": "Python 3",
   "language": "python",
   "name": "python3"
  },
  "language_info": {
   "codemirror_mode": {
    "name": "ipython",
    "version": 3
   },
   "file_extension": ".py",
   "mimetype": "text/x-python",
   "name": "python",
   "nbconvert_exporter": "python",
   "pygments_lexer": "ipython3",
   "version": "3.8.5"
  }
 },
 "nbformat": 4,
 "nbformat_minor": 2
}
