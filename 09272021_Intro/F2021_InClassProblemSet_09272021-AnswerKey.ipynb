{
 "cells": [
  {
   "cell_type": "markdown",
   "metadata": {},
   "source": [
    "# Exercise 0: Google your favorite comic strip. Make a markdown cell that contains the following: \n",
    "* Top level heading that says \"My favorite comic ever\"\n",
    "* Separate bullet points for the name of the comic (in bold text), the name of the author (in italic text), and the year it was published\n",
    "* Insert a hyperlink to the comic\n",
    "* Bonus: google \"embed image jupyter notebook\" and click on the first stackoverflow link (should be top link, for me at least). Figure out how to embed the image directly into your notebook"
   ]
  },
  {
   "cell_type": "markdown",
   "metadata": {},
   "source": [
    "# My favorite comic ever\n",
    "* **Calvin and Hobbes**\n",
    "* *Bill Waterson*\n",
    "* 07.30.1989\n",
    "\n",
    "[link here](https://a5429991-a-62cb3a1a-s-sites.googlegroups.com/site/top25calvinandhobbesstrips/home/ch890730.gif?attachauth=ANoY7cpec3q6svEzQvqttgFpdiI0qpu5iI1tvs79BOHPNzgBlJgqm2oA5h62rNw0HaTJ4ceHW3QAfuVlFwa_PfhZtF1nUhDmj9ZKaELyeQSzSIwNA2EnaYyz0tKLbh5JDHvEmhA-64AnPrbT1Ks96FIOWAgCo0VjBs0F4e0e81Y6J-sMjxUaNMoabS9eT4zJ8M26Deg-udeUWCR5lzDHK0oGf3N-kyx2hYii43TZQgsDB3dyPzhzjm4%3D&attredirects=0)\n",
    "\n",
    "![title](ch890730.gif)"
   ]
  },
  {
   "cell_type": "markdown",
   "metadata": {},
   "source": [
    "## Exercise 1: Assign the following strings to variables and then print them out\n",
    "* My name is Ted\n",
    "* Roy is old, but still a better leader than Jamie\n",
    "* In response, he said \"but what if I wear the red trainers?\"\n",
    "* They both love Keeley, what'll she do???\n",
    "\n",
    "Then take your last string (i.e., They both love Keeley, what'll she do???) and print the 1st letter (T), the fourth to last letter (o), and the 6th letter (b)\n"
   ]
  },
  {
   "cell_type": "code",
   "execution_count": 6,
   "metadata": {},
   "outputs": [
    {
     "name": "stdout",
     "output_type": "stream",
     "text": [
      "My name is Ted\n",
      "Roy is old, but still a better leader than Jamie\n",
      "In response, he said \"but what if I wear the red trainers?\"\n",
      "They both love Keeley, what'll she do???\n",
      "The\n",
      "?\n",
      "b\n"
     ]
    }
   ],
   "source": [
    "# 1\n",
    "s = 'My name is Ted'\n",
    "print(s)\n",
    "\n",
    "# 2\n",
    "s = 'Roy is old, but still a better leader than Jamie'  # or \"Roy is old, but still a better leader than Jamie\"\n",
    "print(s)\n",
    "\n",
    "# 3\n",
    "s = 'In response, he said \"but what if I wear the red trainers?\"'\n",
    "print(s)\n",
    "\n",
    "# 4\n",
    "s = \"They both love Keeley, what'll she do???\"\n",
    "print(s)\n",
    "\n",
    "# 5\n",
    "print(s[0])\n",
    "print(s[-3])\n",
    "print(s[5])\n"
   ]
  },
  {
   "cell_type": "raw",
   "metadata": {},
   "source": [
    "Correct output: \n",
    "\n",
    "My name is Ted\n",
    "Roy is old, but still a better leader than Jamie\n",
    "In response, he said \"but what if I wear the red trainers?\"\n",
    "They both love Keeley, what'll she do???\n",
    "T\n",
    "?\n",
    "b"
   ]
  },
  {
   "cell_type": "markdown",
   "metadata": {},
   "source": [
    "## Exercise 2\n",
    "\n",
    "### Print the number of *seconds* it would take you to fold 1000 pizza boxes if you were able to maintain the world record pace of 14 pizza boxes in one minute indefinitely.\n",
    "* [link here](https://www.guinnessworldrecords.com/world-records/103587-most-pizza-boxes-folded-in-one-minute)\n",
    "\n",
    "**Bonus**: see if you can find a way to print the decimal only to the tenth's place. Google \"python round\" and see if you can figure it out"
   ]
  },
  {
   "cell_type": "code",
   "execution_count": 7,
   "metadata": {},
   "outputs": [
    {
     "name": "stdout",
     "output_type": "stream",
     "text": [
      "4285.714285714286\n"
     ]
    },
    {
     "data": {
      "text/plain": [
       "4285.7142857143"
      ]
     },
     "execution_count": 7,
     "metadata": {},
     "output_type": "execute_result"
    }
   ],
   "source": [
    "## write code here\n",
    "\n",
    "# how much time, in seconds\n",
    "t = (1000/14) * 60\n",
    "print(t)\n",
    "\n",
    "# round to 1 digit to the right of the decimal\n",
    "round(t, 10)"
   ]
  },
  {
   "cell_type": "markdown",
   "metadata": {},
   "source": [
    "Correct output: 4285.714285714286 (4285.7 for bonus)"
   ]
  },
  {
   "cell_type": "markdown",
   "metadata": {},
   "source": [
    "## Exercise 3\n",
    "\n",
    "### Imagine you have a data set that is 'csv' format (comma separate value) where each data point (a word) is seperated by commas. Given the example string below, alphabetize the words and print the last word in the alphabetized list. Hint: first convert to a list (hint in a hint - use 'split'), then sort the list, the find the last entry. "
   ]
  },
  {
   "cell_type": "code",
   "execution_count": 2,
   "metadata": {},
   "outputs": [
    {
     "data": {
      "text/plain": [
       "'xylophone'"
      ]
     },
     "execution_count": 2,
     "metadata": {},
     "output_type": "execute_result"
    }
   ],
   "source": [
    "words = 'banana,peanut,xylophone,aardvark,foot,python'\n",
    "# insert code here\n",
    "\n",
    "# make a list, split on comma\n",
    "lst = words.split(',')\n",
    "\n",
    "# sort in place (or lst = sorted(lst))\n",
    "lst.sort()\n",
    "\n",
    "# print last item\n",
    "lst[-1]"
   ]
  },
  {
   "cell_type": "markdown",
   "metadata": {},
   "source": [
    "Correct output: xylophone"
   ]
  },
  {
   "cell_type": "markdown",
   "metadata": {},
   "source": [
    "## Exercise 4 (Challenge Problem - data cleaning)\n",
    "\n",
    "### Now imagine that you have a data set where the words are already stored in a list with each element being one word, but there is an inexplicable number of spaces at the start or end of each word. Before you can deal with the data you need to clean the spaces so your can determine the shortest word in the list.\n",
    "\n",
    "Hints:\n",
    "* Use 'join' to convert the list into a single string. \n",
    "* Remove all the blank spaces using the 'replace' method [here](https://www.geeksforgeeks.org/python-string-replace/). Note that \" \" is how you indicate an empty space, so replace all of those with just \"\" (nothing)\n",
    "* Use 'split' to convert your single string back into a list (split based on ',')\n",
    "* The *sorted* function has an optional argument *key* that you can pass a function to such that *sorted* uses that function to determine the order of sorting (see documentation [here](https://docs.python.org/3/howto/sorting.html)). Sort based on word length (len)"
   ]
  },
  {
   "cell_type": "code",
   "execution_count": 4,
   "metadata": {},
   "outputs": [
    {
     "name": "stdout",
     "output_type": "stream",
     "text": [
      "banana , peanut  ,xylophone  ,aardvark  ,foot       ,python    \n",
      "['foot', 'banana', 'peanut', 'python', 'aardvark', 'xylophone']\n"
     ]
    }
   ],
   "source": [
    "words_lst = ['banana ', ' peanut  ', 'xylophone  ', 'aardvark  ', 'foot       ', 'python    ']\n",
    "# insert code here\n",
    "\n",
    "# join the members of the list into a single string\n",
    "s = ','.join(words_lst)\n",
    "print(s)\n",
    "\n",
    "# replace the \" \" (empty spaces) with nothing\n",
    "s = s.replace(\" \", \"\")\n",
    "\n",
    "# split back to a list\n",
    "new_lst = s.split(',')\n",
    "\n",
    "# sort by length!\n",
    "print(sorted(new_lst, key=len))"
   ]
  },
  {
   "cell_type": "markdown",
   "metadata": {},
   "source": [
    "Correct output: foot\n"
   ]
  }
 ],
 "metadata": {
  "kernelspec": {
   "display_name": "Python 3",
   "language": "python",
   "name": "python3"
  },
  "language_info": {
   "codemirror_mode": {
    "name": "ipython",
    "version": 3
   },
   "file_extension": ".py",
   "mimetype": "text/x-python",
   "name": "python",
   "nbconvert_exporter": "python",
   "pygments_lexer": "ipython3",
   "version": "3.8.8"
  }
 },
 "nbformat": 4,
 "nbformat_minor": 2
}
