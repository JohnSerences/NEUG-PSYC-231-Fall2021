{
 "cells": [
  {
   "cell_type": "markdown",
   "metadata": {},
   "source": [
    "## Goal of tutorial: compare standard stats and non-parametric approaches and develop an intuition about why, in many cases, non-parametric stats are preferred\n",
    "* In parametric NHT stats, we make a lot of assumptions about our data and how it is sampled and distributed (e.g. normal distribution, independent samples) and that we can then use standardized distributions (e.g. t-distribution) to make inferences about the population.\n",
    "\n",
    "* Using non-parametric randomization and bootstrapping approaches, we can back away from many of these assuptions. \n",
    "\n",
    "* We can collect our data and then directly evaluate our confidence in the summary statistics (and also differences between conditions) without resorting to comparing to standardized distributions.\n",
    "\n",
    "* Sometimes, i.e. when you have lots of data and all assumptions are met, these approaches will converge on the answers you get from parametric stats.\n",
    "\n",
    "* However, there are cases where the methods will diverge, and there are often good reasons to favor these non-parametric approaches over standard statistical test.\n",
    "\n",
    "## Randomization tests\n",
    "In a typical study, you collect data from two or more groups (or conditions) and then\n",
    "you want to decide if the two group means are different given the separation \n",
    "of their means and their variances. So you compute the differences\n",
    "between the means, weight that difference by the variance, and then\n",
    "compare that test statistic against a standard look up table (e.g. a\n",
    "t-distribution or similar) to get a p-value.  \n",
    "\n",
    "This standard approach makes a number of assumptions:\n",
    "* The data are normally distributed so that the test stat follows the expected distribution (i.e. a t-distribution)\n",
    "* That we have taken random and independent samples from the population(s) \n",
    "* We use a standard look-up-table to put a p-value on our test statistic so that we can genearlize our results to the entire population\n",
    "\n",
    "In contrast, *RANDOMIZATION TESTING* relaxes many of these assumptions in place of a different approach.\n",
    "* We do not need normally distributed data, etc. We often fail to meet this condition in real data anyway, so this is a pretty handy thing. We also relax the independent and random sampling assumptions - we are just going to deal with the data that we have in hand and take it as it comes. \n",
    "* With randomization testing, we are not able to make a population inference (see bootstrapping section below for notes about that). \n",
    "* Instead, we are evaluating how likely our summary statistic is given the null hypothesis that our experimental manipulations have no effect (or phrased a different and more useful way - the null hypthesis that our experimental condition labels have no effect on the outcome of the summary statistic). \n",
    "\n",
    "<div class=\"alert alert-info\">\n",
    "The test statistic that we generate is not compared to a standard look up table - instead we generate our own 'null' distribution against which to compare the data that we collect to evalute the propbability of obtaining a test statistic of the observed magnitude given that our condition labels (or our manipulation) had no effect.\n",
    "</div>"
   ]
  },
  {
   "cell_type": "code",
   "execution_count": 1,
   "metadata": {},
   "outputs": [],
   "source": [
    "import numpy as np\n",
    "from scipy import stats\n",
    "import matplotlib.pyplot as plt"
   ]
  },
  {
   "cell_type": "code",
   "execution_count": 40,
   "metadata": {},
   "outputs": [
    {
     "data": {
      "image/png": "[encoded data removed]",
      "text/plain": [
       "<Figure size 432x288 with 1 Axes>"
      ]
     },
     "metadata": {
      "needs_background": "light"
     },
     "output_type": "display_data"
    },
    {
     "name": "stdout",
     "output_type": "stream",
     "text": [
      "2.306399312657527\n",
      "0.02317289757101887\n"
     ]
    }
   ],
   "source": [
    "# np.random.seed(0)\n",
    "\n",
    "N = 100\n",
    "\n",
    "cond_mu = 1.3,1\n",
    "cond_std = 1,1\n",
    "\n",
    "d1 = (np.random.randn(N) * cond_std[0]) + cond_mu[0]\n",
    "d2 = (np.random.randn(N) * cond_std[1]) + cond_mu[1]\n",
    "\n",
    "# histograms \n",
    "plt.hist(d1, color='r', alpha=.5)\n",
    "plt.hist(d2, color='b', alpha=.25)\n",
    "plt.xlabel('Data Values')\n",
    "plt.ylabel('Count')\n",
    "plt.show()\n",
    "\n",
    "t_stats = stats.ttest_1samp(d1-d2, 0)\n",
    "\n",
    "parametric_t = t_stats.statistic\n",
    "parametric_p = t_stats.pvalue\n",
    "\n",
    "print(parametric_t)\n",
    "print(parametric_p)\n",
    "\n",
    "# # repeated, related sample\n",
    "# t_stats = stats.ttest_rel(d1,d2)\n"
   ]
  },
  {
   "cell_type": "code",
   "execution_count": 9,
   "metadata": {},
   "outputs": [
    {
     "data": {
      "image/png": "[encoded data removed]",
      "text/plain": [
       "<Figure size 432x288 with 1 Axes>"
      ]
     },
     "metadata": {
      "needs_background": "light"
     },
     "output_type": "display_data"
    },
    {
     "name": "stdout",
     "output_type": "stream",
     "text": [
      "0.04610000000000003\n"
     ]
    }
   ],
   "source": [
    "# randomization...\n",
    "np.random.seed(0)\n",
    "num_rands = 10000\n",
    "\n",
    "# this will store the emipircal distribution of t-values\n",
    "null_t = np.zeros(num_rands)\n",
    "\n",
    "for i in np.arange(num_rands):\n",
    "    \n",
    "    rand_data = np.sign(np.random.rand(N) - .5) * (d1-d2)\n",
    "    \n",
    "    null_t[i] = stats.ttest_1samp(rand_data, 0)[0]\n",
    "    \n",
    "plt.hist(null_t, color='r', bins = 30)\n",
    "plt.xlabel('t-value')\n",
    "plt.ylabel('count')\n",
    "plt.show()\n",
    "\n",
    "# actually compute a p-value\n",
    "rand_p = (1-(np.sum(parametric_t > np.abs(null_t)) / num_rands))\n",
    "\n",
    "print(rand_p)"
   ]
  },
  {
   "cell_type": "code",
   "execution_count": 10,
   "metadata": {},
   "outputs": [
    {
     "name": "stdout",
     "output_type": "stream",
     "text": [
      "0.8164205163448396\n",
      "0.002169628873078809\n"
     ]
    },
    {
     "data": {
      "image/png": "[encoded data removed]",
      "text/plain": [
       "<Figure size 432x288 with 1 Axes>"
      ]
     },
     "metadata": {
      "needs_background": "light"
     },
     "output_type": "display_data"
    }
   ],
   "source": [
    "d1 = np.array([10, 8, 13, 9, 11, 14, 6, 4, 12, 7, 5])\n",
    "d2 = np.array([8.04, 6.95, 7.58, 8.81, 8.33, 9.96, 7.24, 4.26, 10.84, 4.82, 5.68])\n",
    "\n",
    "N = len(d1)\n",
    "\n",
    "para_r, para_p = stats.pearsonr(d1, d2)\n",
    "\n",
    "print(para_r)\n",
    "print(para_p)\n",
    "\n",
    "plt.scatter(d1,d2,color='k')\n",
    "plt.show()\n"
   ]
  },
  {
   "cell_type": "code",
   "execution_count": 12,
   "metadata": {},
   "outputs": [
    {
     "name": "stdout",
     "output_type": "stream",
     "text": [
      "0.03\n"
     ]
    }
   ],
   "source": [
    "np.random.seed(0)\n",
    "\n",
    "num_rands = 5000\n",
    "\n",
    "null_r = np.zeros(num_rands)\n",
    "\n",
    "tmp0 = np.zeros(N)\n",
    "tmp1 = np.zeros(N)\n",
    "\n",
    "for i in np.arange(num_rands):\n",
    "    \n",
    "    for j in np.arange(N):\n",
    "        if np.random.rand() < .5:\n",
    "            tmp0[j] = d1[j]\n",
    "            tmp1[j] = d2[j]\n",
    "        else:\n",
    "            tmp0[j] = d2[j]\n",
    "            tmp1[j] = d1[j]\n",
    "            \n",
    "    null_r[i] = stats.pearsonr(tmp0, tmp1)[0]\n",
    "    \n",
    "\n",
    "null_p = 2 * (np.sum(null_r > para_r) / num_rands)\n",
    "\n",
    "print(null_p)\n",
    "            \n"
   ]
  },
  {
   "cell_type": "markdown",
   "metadata": {},
   "source": [
    "## Bootstrapping...resampling with replacement to estimate population CIs"
   ]
  },
  {
   "cell_type": "code",
   "execution_count": 16,
   "metadata": {},
   "outputs": [
    {
     "name": "stdout",
     "output_type": "stream",
     "text": [
      "100.01512146515539\n",
      "9.999213260166576\n",
      "100.01512146515536\n",
      "9.999213260166574\n"
     ]
    }
   ],
   "source": [
    "np.random.seed(0)\n",
    "\n",
    "N = 1000000\n",
    "\n",
    "pop_mean = 100\n",
    "pop_std = 10\n",
    "\n",
    "\n",
    "pop_data = (np.random.randn(N) * pop_std) + pop_mean\n",
    "\n",
    "\n",
    "S_N = 1000000\n",
    "\n",
    "index = np.random.permutation(N)[0:S_N]\n",
    "\n",
    "samp_data = pop_data[index]\n",
    "\n",
    "\n",
    "print(np.mean(pop_data))\n",
    "print(np.std(pop_data))\n",
    "print(np.mean(samp_data))\n",
    "print(np.std(samp_data))"
   ]
  },
  {
   "cell_type": "code",
   "execution_count": 33,
   "metadata": {},
   "outputs": [
    {
     "data": {
      "image/png": "[encoded data removed]",
      "text/plain": [
       "<Figure size 432x288 with 1 Axes>"
      ]
     },
     "metadata": {
      "needs_background": "light"
     },
     "output_type": "display_data"
    }
   ],
   "source": [
    "S_N = 20 \n",
    "\n",
    "index = np.random.permutation(N)[0:S_N]\n",
    "\n",
    "samp_data = pop_data[index]\n",
    "\n",
    "num_boots = 10000\n",
    "\n",
    "boot_mean = np.zeros(num_boots)\n",
    "\n",
    "for i in np.arange(num_boots):\n",
    "    \n",
    "    boot_data = samp_data[np.random.randint(S_N, size=S_N)]\n",
    "    \n",
    "    boot_mean[i] = np.mean(boot_data)\n",
    "    \n",
    "    \n",
    "CIs = np.percentile(boot_mean, [2.5, 97.5])\n",
    "\n",
    "plt.hist(boot_mean, color = 'r')\n",
    "plt.axvline(pop_mean, color='k')\n",
    "plt.axvline(CIs[0], color='b')\n",
    "plt.axvline(CIs[1], color='b')\n",
    "plt.show()\n",
    "    \n",
    "    "
   ]
  },
  {
   "cell_type": "code",
   "execution_count": 31,
   "metadata": {},
   "outputs": [
    {
     "name": "stdout",
     "output_type": "stream",
     "text": [
      "[ 8  4 12 18  9 18  5 19  2  7 10 14 15 19  5 14  4 16  8 15]\n"
     ]
    }
   ],
   "source": [
    "print(np.random.randint(S_N, size=S_N))"
   ]
  },
  {
   "cell_type": "code",
   "execution_count": 42,
   "metadata": {},
   "outputs": [
    {
     "data": {
      "image/png": "[encoded data removed]",
      "text/plain": [
       "<Figure size 432x288 with 1 Axes>"
      ]
     },
     "metadata": {
      "needs_background": "light"
     },
     "output_type": "display_data"
    },
    {
     "name": "stdout",
     "output_type": "stream",
     "text": [
      "0.9170709404550901\n",
      "its a Nature paper!!!\n"
     ]
    }
   ],
   "source": [
    "# correlations...\n",
    "np.random.seed(0)\n",
    "\n",
    "N=16\n",
    "\n",
    "d1 = np.random.randn(N)\n",
    "d2 = np.random.randn(N)\n",
    "\n",
    "d1[-1] = 20\n",
    "d2[-1] = 15\n",
    "\n",
    "plt.scatter(d1, d2, color='r')\n",
    "plt.show()\n",
    "\n",
    "\n",
    "para_r, para_p = stats.pearsonr(d1, d2)\n",
    "\n",
    "print(para_r)\n",
    "print('its a Nature paper!!!')\n"
   ]
  },
  {
   "cell_type": "code",
   "execution_count": 44,
   "metadata": {},
   "outputs": [
    {
     "data": {
      "image/png": "[encoded data removed]",
      "text/plain": [
       "<Figure size 432x288 with 1 Axes>"
      ]
     },
     "metadata": {
      "needs_background": "light"
     },
     "output_type": "display_data"
    }
   ],
   "source": [
    "num_boots = 100000\n",
    "\n",
    "corr = np.zeros(num_boots)\n",
    "\n",
    "for i in np.arange(num_boots):\n",
    "    index = np.random.randint(N, size = N)\n",
    "    \n",
    "    tmp1 = d1[index]\n",
    "    tmp2 = d2[index]\n",
    "    \n",
    "    corr[i], _ = stats.pearsonr(tmp1, tmp2)\n",
    "    \n",
    "CIs = np.percentile(corr, [2.5, 97.5])\n",
    "\n",
    "plt.hist(corr, color='r', bins = 100)\n",
    "plt.axvline(para_r, color='g')\n",
    "plt.axvline(CIs[0], color = 'k')\n",
    "plt.axvline(CIs[1], color = 'k')\n",
    "plt.show()"
   ]
  }
 ],
 "metadata": {
  "kernelspec": {
   "display_name": "Python 3",
   "language": "python",
   "name": "python3"
  },
  "language_info": {
   "codemirror_mode": {
    "name": "ipython",
    "version": 3
   },
   "file_extension": ".py",
   "mimetype": "text/x-python",
   "name": "python",
   "nbconvert_exporter": "python",
   "pygments_lexer": "ipython3",
   "version": "3.8.5"
  }
 },
 "nbformat": 4,
 "nbformat_minor": 4
}
