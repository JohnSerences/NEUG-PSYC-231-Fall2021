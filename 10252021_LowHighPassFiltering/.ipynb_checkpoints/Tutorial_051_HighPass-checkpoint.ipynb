{
 "cells": [
  {
   "cell_type": "markdown",
   "metadata": {},
   "source": [
    "## We can a similar process that we discussed in our low pass filter tutorial to create a high-pass filter\n",
    "* If you low-pass the data, then high frequencies are discarded and only low-frequencies remain\n",
    "* That means that the high frequency info in your data is equal to (original_signal - lp_filtered_signal)\n",
    "* So if you have symetric filters, like our sinc functions, you can just invert it and you've got a high-pass filter that does the opposite of our low pass filter \n",
    "* Conceptually, a high-pass filter looks like our 'brick wall' low pass filter (see first part of last tutorial), except that it is zeros for low-frequencies and non-zero for high-frequencies"
   ]
  },
  {
   "cell_type": "markdown",
   "metadata": {},
   "source": [
    "## Imports"
   ]
  },
  {
   "cell_type": "code",
   "execution_count": null,
   "metadata": {},
   "outputs": [],
   "source": [
    "import numpy as np\n",
    "import matplotlib.pyplot as plt\n",
    "\n",
    "# also define the default font we'll use for figures. \n",
    "fig_font = {'fontname':'Arial', 'size':'20'}"
   ]
  },
  {
   "cell_type": "markdown",
   "metadata": {},
   "source": [
    "## Simulated timeseries"
   ]
  },
  {
   "cell_type": "code",
   "execution_count": null,
   "metadata": {},
   "outputs": [],
   "source": [
    "# our frequencies to work with\n",
    "frequs = [5, 12, 17, 45, 58]\n",
    "# first lets set up a more interesting signal with some higher frequencies\n",
    "sr = 512                        # samp rate in Hz\n",
    "tmax = 4                        # duration of signal, in s\n",
    "dt = 1/sr                       # time step, reciprocal of the sr\n",
    "t = np.arange(0,tmax,dt)        # time axis\n",
    "\n",
    "# add up a bunch of sin waves at each of our desired frequencies\n",
    "sig = np.zeros(len(t))\n",
    "for f in np.arange(len(frequs)):\n",
    "    sig = sig + np.sin(2*np.pi*frequs[f]*t)"
   ]
  },
  {
   "cell_type": "code",
   "execution_count": null,
   "metadata": {},
   "outputs": [],
   "source": [
    "# Plot\n",
    "plt.plot(t, sig, 'b-', linewidth = 2)    # specify x,y data...in this case time and amplitude of sin\n",
    "\n",
    "# put some labels on the axes\n",
    "plt.xlabel('Time (s)', **fig_font)\n",
    "plt.ylabel('Amplitude', **fig_font)\n",
    "\n",
    "# set the tick marks\n",
    "plt.xticks(np.arange(-.1,tmax+.5,.5), color='k', size=20)\n",
    "plt.yticks(np.linspace(-6,6,5), color='k', size=20)\n",
    "\n",
    "# add some nice vertical/horizontal lines \n",
    "plt.axvline(0, color = 'k', linewidth = 2)\n",
    "plt.axhline(0, color = 'k', linewidth = 2)\n",
    "\n",
    "# show it\n",
    "plt.show()"
   ]
  },
  {
   "cell_type": "markdown",
   "metadata": {},
   "source": [
    "## Make our filter - just like with the low pass filter, but invert the filter\n",
    "* Since we're using this a lot, lets make a function out of it...will come in handy for band pass and stop band filters too"
   ]
  },
  {
   "cell_type": "code",
   "execution_count": 1,
   "metadata": {},
   "outputs": [
    {
     "name": "stdout",
     "output_type": "stream",
     "text": [
      "Overwriting my_sinc_filt.py\n"
     ]
    }
   ],
   "source": [
    "%%writefile my_sinc_filt.py\n",
    "\n",
    "# include the import before the functions so that when we call this module later we load numpy once. \n",
    "import numpy as np\n",
    "\n",
    "def define_filt(fc, b, window, type_filt):\n",
    "    \"\"\"Define a lp or a hp filter\n",
    "\n",
    "    Args:\n",
    "        fc (float): cutoff frequency, as a fraction of sampling rate\n",
    "        b (float): transition band, as a fraction of sampling rate\n",
    "        window (str): window sinc filter, options 'none', 'blackman', 'hanning'\n",
    "        type_filt (str): low pass or high pass filter, options 'lp', 'hp'\n",
    "\n",
    "    Returns:\n",
    "        n (int array): span of filter\n",
    "        sinc (float array): sinc filter in time domain\n",
    "\n",
    "    \"\"\"\n",
    "\n",
    "    # NOTE: do some arg checks here if you want a more robust function\n",
    "    \n",
    "    \n",
    "    # more on this below, but now need to make sure that ceil(4/b) is odd\n",
    "    N = int(np.ceil((4 / b)))\n",
    "\n",
    "    # make sure filter length is odd\n",
    "    if not N % 2: N += 1  \n",
    "\n",
    "    # generate span over which to eval sinc function    \n",
    "    n = np.arange(N)\n",
    "\n",
    "    # Compute the filter\n",
    "    sinc_func = np.sinc(2 * fc * (n - (N - 1) / 2.))\n",
    "\n",
    "    # generate our window\n",
    "    if window == 'blackman':\n",
    "        win = np.blackman(N)\n",
    "        \n",
    "    elif window == 'hanning':\n",
    "        win = np.hanning(N)\n",
    "        \n",
    "    elif window == 'none':\n",
    "        # if 'none' then just an array of ones so that the values in the sinc aren't modified\n",
    "        win = np.ones(N)\n",
    "        \n",
    "    else:\n",
    "        print('Unknown window type')\n",
    "        # return 0\n",
    "    \n",
    "    # apply the windowing function \n",
    "    sinc_func = sinc_func * win\n",
    "\n",
    "    # Normalize to have an area of 1 (unit area)\n",
    "    sinc_func /= np.sum(sinc_func)\n",
    "\n",
    "    # check filter type...if lp then do nothing, else if hp invert, else return msg\n",
    "    if type_filt == 'lp':\n",
    "        return n, sinc_func\n",
    "    \n",
    "    elif type_filt == 'hp':\n",
    "        # invert\n",
    "        sinc_func = -1*sinc_func\n",
    "        \n",
    "        # add 1 to middle of the inverted function \n",
    "        sinc_func[int((N-1)/2)]+=1\n",
    "        \n",
    "        return n, sinc_func\n",
    "    \n",
    "    else:    \n",
    "        print('error - specify lp or hp filter')\n",
    "\n",
    "\n",
    "# Another function to apply the filter.         \n",
    "def apply_filt(input_sig, input_filter):\n",
    "    \"\"\"Apply a filter to an input timeseries (using freq domain multiplication)\n",
    "\n",
    "    Args:\n",
    "        input_sig (float): timeseries to be filtered (in time domain)\n",
    "        input_filter (float): filter to apply to input_sig (in time domain)\n",
    "\n",
    "    Returns:\n",
    "        filt_sig (float array): filtered signal \n",
    "\n",
    "    \"\"\"\n",
    "    \n",
    "    # fft our time domain signal\n",
    "    fft_sig = np.fft.rfft(input_sig)\n",
    "\n",
    "    # need to zero pad to make the filter the same length as the signal\n",
    "    X = len(input_sig)\n",
    "    Y = len(input_filter)\n",
    "\n",
    "    # zero pad in the time domain\n",
    "    if Y<X:\n",
    "        input_filter = np.hstack((input_filter, np.zeros(X-Y)))\n",
    "\n",
    "    # fft the filter\n",
    "    fft_filt = np.fft.rfft(input_filter)\n",
    "\n",
    "    # multiply in freq domain, then ifft to go back into the time domain\n",
    "    return np.fft.irfft(fft_sig*fft_filt)"
   ]
  },
  {
   "cell_type": "markdown",
   "metadata": {},
   "source": [
    "## Call our function to make a hp filter."
   ]
  },
  {
   "cell_type": "code",
   "execution_count": null,
   "metadata": {},
   "outputs": [],
   "source": [
    "# import our filter object\n",
    "import my_sinc_filt as msf\n",
    "\n",
    "msf.define_filt?\n",
    "\n",
    "# define a filter\n",
    "fc=0.1\n",
    "b=0.1\n",
    "win = 'blackman'\n",
    "type_filt = 'hp'\n",
    "\n",
    "# make our function call to generate a hp filter\n",
    "n, sinc_func = msf.define_filt(fc=fc, b=b, window=win, type_filt=type_filt)"
   ]
  },
  {
   "cell_type": "markdown",
   "metadata": {},
   "source": [
    "## Plot our high pass filter"
   ]
  },
  {
   "cell_type": "code",
   "execution_count": null,
   "metadata": {},
   "outputs": [],
   "source": [
    "plt.plot(n, sinc_func)\n",
    "plt.xlabel('Samples', **fig_font)\n",
    "plt.ylabel('Amplitude', **fig_font)\n",
    "plt.title('Sinc filter in time domain', **fig_font)\n",
    "plt.show()"
   ]
  },
  {
   "cell_type": "markdown",
   "metadata": {},
   "source": [
    "## Take a look at the filter in the frequency domain - should look our lp filters but in reverse"
   ]
  },
  {
   "cell_type": "code",
   "execution_count": null,
   "metadata": {},
   "outputs": [],
   "source": [
    "# take the fft, convert to amplitude, then normalize\n",
    "sinc_fft = (np.abs(np.fft.rfft(sinc_func)) / len(sig) ) * 2\n",
    "\n",
    "# figure out the frequency resolution of the data\n",
    "# recall that our 'dt' here is calculated based on the signal \n",
    "# that we set up at the begining of the tutorial with a \n",
    "# sr = 512, so fc*512 should be around our filter fall-off\n",
    "freq = np.fft.rfftfreq(sinc_func.size, dt)   \n",
    "\n",
    "plt.plot(freq, sinc_fft)\n",
    "plt.axvline(fc*sr, color = 'k', linewidth = 2)\n",
    "plt.xlabel('Frequency', **fig_font)\n",
    "plt.ylabel('Amplitude', **fig_font)\n",
    "plt.title('Sinc filter in frequ domain', **fig_font)\n",
    "plt.show()"
   ]
  },
  {
   "cell_type": "markdown",
   "metadata": {},
   "source": [
    "## Call our function to HP filter the data"
   ]
  },
  {
   "cell_type": "code",
   "execution_count": null,
   "metadata": {},
   "outputs": [],
   "source": [
    "filt_sig = msf.apply_filt(input_sig=sig, input_filter=sinc_func)"
   ]
  },
  {
   "cell_type": "code",
   "execution_count": null,
   "metadata": {},
   "outputs": [],
   "source": [
    "# Plot the regular signal\n",
    "plt.plot(t, sig)\n",
    "plt.xlabel('Samples', **fig_font)\n",
    "plt.ylabel('Amplitude', **fig_font)\n",
    "plt.title('Original Signal', **fig_font)\n",
    "plt.show()\n",
    "\n",
    "# plot the filtered signal\n",
    "plt.plot(t, filt_sig)\n",
    "plt.xlabel('Samples', **fig_font)\n",
    "plt.ylabel('Amplitude', **fig_font)\n",
    "plt.title('Filtered Signal', **fig_font)\n",
    "plt.show()"
   ]
  },
  {
   "cell_type": "markdown",
   "metadata": {},
   "source": [
    "## Then fft the original signal and the filtered signal to compare in the frequency domain\n",
    "* Can go back and adjust 'b' to change the roll-off to see how this impacts the dampening of the low frequencies"
   ]
  },
  {
   "cell_type": "code",
   "execution_count": null,
   "metadata": {},
   "outputs": [],
   "source": [
    "# fft our signal\n",
    "fft_sig = (np.abs(np.fft.rfft(sig)) / len(sig) ) * 2\n",
    "freq = np.fft.rfftfreq(sig.size, dt)   \n",
    "\n",
    "# fft our filtered signal\n",
    "fft_filt_sig = (np.abs(np.fft.rfft(filt_sig)) / len(filt_sig) ) * 2\n",
    "\n",
    "# plot\n",
    "plt.plot(freq, fft_sig, marker='o')\n",
    "plt.plot(freq, fft_filt_sig, marker='o')\n",
    "plt.xlabel('Frequency', **fig_font)\n",
    "plt.ylabel('Amplitude', **fig_font)\n",
    "plt.xlim([0, 60])\n",
    "plt.ylim([0, 2])\n",
    "plt.legend(['Original Signal', 'Filtered Signal'])\n",
    "plt.show()"
   ]
  },
  {
   "cell_type": "markdown",
   "metadata": {},
   "source": [
    "## Now go back and see what happens if we don't apply any windowing function...check out the amplitude of the low frequencies, even though this is hp filter."
   ]
  }
 ],
 "metadata": {
  "kernelspec": {
   "display_name": "Python 3",
   "language": "python",
   "name": "python3"
  },
  "language_info": {
   "codemirror_mode": {
    "name": "ipython",
    "version": 3
   },
   "file_extension": ".py",
   "mimetype": "text/x-python",
   "name": "python",
   "nbconvert_exporter": "python",
   "pygments_lexer": "ipython3",
   "version": "3.6.8"
  }
 },
 "nbformat": 4,
 "nbformat_minor": 2
}
