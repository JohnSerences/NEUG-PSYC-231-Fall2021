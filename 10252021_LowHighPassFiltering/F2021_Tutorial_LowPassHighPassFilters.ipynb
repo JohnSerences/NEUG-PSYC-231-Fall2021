{
 "cells": [
  {
   "cell_type": "markdown",
   "metadata": {},
   "source": [
    "# Intro to basics of filtering theory/application (and how to write functions!)\n",
    "* low-pass and high filter design and implementation - build an intuition for how they work\n",
    "* more advanced stuff about actual implementation (not covered in class):\n",
    "    * infinite fall-off in time domain\n",
    "    * windowing (Blackman)\n",
    "    * temporal shifting/distortions\n",
    "    \n",
    "**IMPORTANT - if you are actually going to design and implement your own filters, make sure you read all of the material in this notebook, esp the \"advanced\" section** \n",
    "\n",
    "jserences@ucsd.edu, 10252021"
   ]
  },
  {
   "cell_type": "markdown",
   "metadata": {},
   "source": [
    "## Topic and basic principle of filtering\n",
    "* A low-pass filter will \"pass\" (or keep) low frequency components of a signal and attenuate high frequency components\n",
    "* A high-pass will do the opposite - it will pass high frequencies and attenuate low frequency components\n",
    "* Implementation\n",
    "    * Build a filter in the time or frequency domain\n",
    "        * if built in time domain, then FFT it to get a frequency domain representation\n",
    "        * then FFT the time domain signal that you want to filter (and retain complex values - not just the amplitude)\n",
    "        * then multiply the FFT'd filter by the FFT'd timeseries\n",
    "        * then iFFT the filtered signal back into the time domain"
   ]
  },
  {
   "cell_type": "markdown",
   "metadata": {},
   "source": [
    "https://pubmed.ncbi.nlm.nih.gov/27375930/\n",
    "\n",
    "![ca+ imaging](ca_imaging.jpg)\n",
    "\n",
    "\n",
    "\n",
    "![econ data](cycles_econ.png)"
   ]
  },
  {
   "cell_type": "markdown",
   "metadata": {},
   "source": [
    "## Imports"
   ]
  },
  {
   "cell_type": "code",
   "execution_count": null,
   "metadata": {},
   "outputs": [],
   "source": [
    "import numpy as np\n",
    "import matplotlib.pyplot as plt\n",
    "\n",
    "# also define the default font we'll use for figures. \n",
    "plt.rc = {'fontname':'Arial', \n",
    "          'size':'20'}"
   ]
  },
  {
   "cell_type": "markdown",
   "metadata": {},
   "source": [
    "## Make a function to do FFT to save time typing later\n",
    "* If you ever start typing out the same code over and over again, then probably a good idea to just write it once in the form of a function so that you can re-use it\n",
    "* In this case, our function needs to be able to handle general inputs (e.g., a timeseries and a dt) and then return the amp and frequency axis after doing the FFT\n",
    "* Note that variables defined outside of a function are in the \"global namespace\" - this means that they can be accessed from anywhere in the notebook\n",
    "* In contrast, variables that are declared (or defined) inside of function are in the \"local namespace\" of that function and they disapear as soon as the function exits\n"
   ]
  },
  {
   "cell_type": "code",
   "execution_count": null,
   "metadata": {},
   "outputs": [],
   "source": [
    "def do_fft(sig, dt):\n",
    "    \n",
    "    # rfft = fft for real valued inputs\n",
    "    cplx = np.fft.rfft(sig)   \n",
    "\n",
    "    # amplitude\n",
    "    amp_filt = np.abs(cplx)  \n",
    "\n",
    "    # normalize amp by the number of data points, \n",
    "    amp_filt = (amp_filt  / len(sig) ) * 2   \n",
    "\n",
    "    # figure out the frequency resolution of the data \n",
    "    freq_x = np.fft.rfftfreq(len(sig), dt)          \n",
    "    \n",
    "    # return the variables of interest so \n",
    "    # the values can be used outside of this function\n",
    "    return amp_filt, cplx, freq_x"
   ]
  },
  {
   "cell_type": "markdown",
   "metadata": {},
   "source": [
    "## Low pass filter\n",
    "* Ideal low pass filter will only let through frequencies you want to keep and will truncate high frequencies\n",
    "* The ideal filter will look like a step function in the frequency domain\n",
    "* Take the following steps to illustrate\n",
    "    * Generate a signal that we can use for simulations\n",
    "    * Make a step function filter in the frequency domain and see what happens..."
   ]
  },
  {
   "cell_type": "code",
   "execution_count": null,
   "metadata": {},
   "outputs": [],
   "source": [
    "# define a set of frequencies for our simulated signal. \n",
    "# lets not add any IID noise yet so that the results turn out the same each time\n",
    "Lf = 1  # lowest frequency\n",
    "Hf = 16 # highest frequency\n",
    "\n",
    "#generate list\n",
    "frequs = np.linspace(Lf, Hf, (Hf-Lf)+1)\n",
    "print(frequs)"
   ]
  },
  {
   "cell_type": "code",
   "execution_count": null,
   "metadata": {},
   "outputs": [],
   "source": [
    "# make a simulated signal\n",
    "np.random.seed(0)\n",
    "sr = 512                        # samp rate in Hz\n",
    "tmax = 4                        # duration of signal, in s\n",
    "dt = 1/sr                       # time step, reciprocal of the sr\n",
    "t = np.arange(0,tmax,dt)        # time axis\n",
    "\n",
    "# add up a bunch of sin waves at each of our desired frequencies\n",
    "sig = np.zeros(len(t))\n",
    "for f in np.arange(len(frequs)):\n",
    "    sig += np.random.rand() * np.sin(2*np.pi*frequs[f]*t)"
   ]
  },
  {
   "cell_type": "code",
   "execution_count": null,
   "metadata": {},
   "outputs": [],
   "source": [
    "# Plot\n",
    "plt.plot(t, sig, 'b-', linewidth = 2)    # specify x,y data...in this case time and amplitude of sin\n",
    "\n",
    "# put some labels on the axes\n",
    "plt.xlabel('Time (s)')\n",
    "plt.ylabel('Amplitude')\n",
    "\n",
    "# set the tick marks\n",
    "plt.xticks(np.arange(0,tmax+.5,.5), color='k', size=20)\n",
    "plt.yticks(np.linspace(-20,20,11), color='k', size=20)\n",
    "\n",
    "# add some nice vertical/horizontal lines \n",
    "plt.axvline(0, color = 'k', linewidth = 2)\n",
    "plt.axhline(0, color = 'k', linewidth = 2)\n",
    "\n",
    "# show it\n",
    "plt.show()"
   ]
  },
  {
   "cell_type": "markdown",
   "metadata": {},
   "source": [
    "## Now FFT and lets have a look at the frequency spectrum "
   ]
  },
  {
   "cell_type": "code",
   "execution_count": null,
   "metadata": {},
   "outputs": [],
   "source": [
    "# call our function to do the FFT\n",
    "amp, cplx, freq_x = do_fft(sig, dt)\n",
    "\n",
    "# plot the fft\n",
    "plt.plot(freq_x, amp, 'k')            # plot amplitude \n",
    "\n",
    "plt.xlabel('Frequency')\n",
    "plt.ylabel('Amplitude')\n",
    "plt.xticks(frequs[::2], color='k', size=20)\n",
    "plt.yticks((0,1,2), color='k', size=20)\n",
    "\n",
    "# set the axis limits\n",
    "plt.xlim([0, Hf+1])\n",
    "\n",
    "# put a legend on it...\n",
    "plt.legend(['normalized fft'], loc='best', fontsize='x-large')  \n",
    "\n",
    "# show it\n",
    "plt.show()"
   ]
  },
  {
   "cell_type": "markdown",
   "metadata": {},
   "source": [
    "## Now design an ideal low pass filter - one that only passes frequencies below the cutoff and truncates everything else.\n",
    "* Note that this will look like a box-car function in the frequency domain\n",
    "* If you multiply this filter with the FFT of the original data, and then iFFT, you should only have low frequencies left!\n",
    "* This kind of filter with a hard cutoff is often referred to as a **brick-wall filter**"
   ]
  },
  {
   "cell_type": "code",
   "execution_count": null,
   "metadata": {},
   "outputs": [],
   "source": [
    "# lets pass everything below 5Hz and cut off everything else\n",
    "lowpass_cut = 5\n",
    "\n",
    "# find the freq in our FFT range that is closest to our desired cutoff point\n",
    "cutoff_pnt = np.argmin(np.abs(freq_x-lowpass_cut)) # more general way to do it...\n",
    "\n",
    "# make the filter\n",
    "lp_filt = np.zeros(len(freq_x))\n",
    "lp_filt[0:cutoff_pnt] = 1\n",
    "\n",
    "plt.plot(freq_x, lp_filt, c='k', linewidth=3)\n",
    "plt.xlabel('Frequency')\n",
    "plt.ylabel('Amplitude')\n",
    "plt.xticks(frequs[::2], color='k', size=20)\n",
    "plt.yticks((0,1,2), color='k', size=20)\n",
    "\n",
    "# set the axis limits\n",
    "plt.xlim([0, Hf])\n",
    "\n",
    "plt.title('Low pass filter in frequ domain')\n",
    "plt.show()"
   ]
  },
  {
   "cell_type": "markdown",
   "metadata": {},
   "source": [
    "## Apply the filtering by multiplying it with the data \n",
    "* Notice that the frequency domain representation of our brick wall filter is 1's for the frequencies we want to keep, and 0 otherwise...\n",
    "* So to filter data, you can multiply the fft of your signal with the frequency domain representation of the filter...\n",
    "* then ifft to take the filtered signal back into the time domain"
   ]
  },
  {
   "cell_type": "code",
   "execution_count": null,
   "metadata": {},
   "outputs": [],
   "source": [
    "# do the mutliplication in the frequ domain\n",
    "# NEED THE COMPLEX VALUED SIGNAL, not just the amplitude\n",
    "# so use sp, not amp\n",
    "\n",
    "# filter the data (multiply, iFFT)\n",
    "# do it in steps here to make it clear\n",
    "multiply_in_frequ_domain = cplx * lp_filt\n",
    "\n",
    "# take the ifft\n",
    "filtered_sig = np.fft.irfft(multiply_in_frequ_domain)"
   ]
  },
  {
   "cell_type": "code",
   "execution_count": null,
   "metadata": {},
   "outputs": [],
   "source": [
    "# plot the filtered data...all the high frequency stuff > 5Hz should be gone!\n",
    "plt.plot(t, sig)  # orig sig\n",
    "plt.plot(t, filtered_sig, 'k')\n",
    "plt.xlabel('Time(s)')\n",
    "plt.ylabel('Amplitude')\n",
    "plt.xticks(np.arange(-.1,tmax+.5,.5), color='k', size=20)\n",
    "plt.yticks(np.linspace(-20,20,11), color='k', size=20)\n",
    "plt.title('Filtered signal')\n",
    "plt.show()"
   ]
  },
  {
   "cell_type": "markdown",
   "metadata": {},
   "source": [
    "## Now FFT our filtered signal to see what it looks like in the frequ domain"
   ]
  },
  {
   "cell_type": "code",
   "execution_count": null,
   "metadata": {
    "scrolled": true
   },
   "outputs": [],
   "source": [
    "# FFT the filtered signal...\n",
    "amp_filt, cplx, freq_x = do_fft(filtered_sig, dt)\n",
    "\n",
    "# plot the fft\n",
    "plt.plot(freq_x, amp, 'b')            # plot amplitude of the original signal\n",
    "plt.plot(freq_x, amp_filt, 'r')       # plot amplitude of filtered signal \n",
    "\n",
    "# put a legend on it...\n",
    "plt.legend(['Before filt', 'After filt'], loc='best', fontsize='x-large')  \n",
    "plt.xlabel('Frequency')\n",
    "plt.ylabel('Amplitude')\n",
    "# plt.xticks(frequs[::2], color='k', size=20)\n",
    "plt.yticks((0,1), color='k', size=20)\n",
    "\n",
    "# set the axis limits\n",
    "plt.xlim([0, Hf+1])\n",
    "\n",
    "plt.title('Before and after low pass filtering @ 5Hz')\n",
    "\n",
    "# show it\n",
    "plt.show()"
   ]
  },
  {
   "cell_type": "markdown",
   "metadata": {},
   "source": [
    "## We can use a similar process that we discussed in our low pass filter tutorial to create a high-pass filter\n",
    "* A high-pass filter looks like our brick wall low pass filter (see first part of last tutorial), except that it is zeros for low-frequencies and non-zero for high-frequencies"
   ]
  },
  {
   "cell_type": "markdown",
   "metadata": {},
   "source": [
    "### Make our filter - just like with the low pass filter, but invert the filter\n",
    "* Since we're using this a lot, lets make a function out of it...\n",
    "* note the 'writefile' cell magic - that will write out a .py file (really just a text file) that we can then load and use later...\n",
    "* include relevant info in the \"docstring\" section for helpful usage hints..."
   ]
  },
  {
   "cell_type": "code",
   "execution_count": null,
   "metadata": {},
   "outputs": [],
   "source": [
    "%%writefile my_brick_filt.py\n",
    "\n",
    "# include the import before the functions so that when we call this module later we load numpy once. \n",
    "import numpy as np\n",
    "\n",
    "def define_filt(fx, filt_freq, type_filt):\n",
    "\n",
    "    \"\"\"Define a simple lp or a hp brick wall filter - don't use this in practice, just for tutorial\n",
    "\n",
    "    Args:\n",
    "        fx (array): list of frequencies, taken from np.fft.rfftfreq\n",
    "        filt_freq (float): cutoff frequency\n",
    "        type_filt (str): low pass or high pass filter, options 'lp', 'hp'\n",
    "\n",
    "    Returns:\n",
    "        brick: brick wall filter in frequency domain\n",
    "\n",
    "    \"\"\"\n",
    "    # find the freq in our FFT range that is closest to our desired cutoff point\n",
    "    cutoff_pnt = np.argmin(np.abs(fx-filt_freq)) # more general way to do it...\n",
    "\n",
    "    # check filter type...if lp then do nothing, else if hp invert, else return msg\n",
    "\n",
    "    # init filter with all 0's\n",
    "    brick = np.zeros(len(fx))\n",
    "\n",
    "    if type_filt == 'lp':\n",
    "        # make the filter\n",
    "        brick[0:cutoff_pnt] = 1\n",
    "    \n",
    "    elif type_filt == 'hp':\n",
    "        # make the filter\n",
    "        brick[cutoff_pnt:] = 1\n",
    "    \n",
    "    else:    \n",
    "        print('error - specify lp or hp filter')\n",
    "        return 0\n",
    "    \n",
    "    return brick\n",
    "\n",
    "# Another function to apply the filter. this second function will be in the same module      \n",
    "def apply_filt(input_sig, input_filter):\n",
    "    \"\"\"Apply a filter to an input timeseries (using freq domain multiplication)\n",
    "\n",
    "    Args:\n",
    "        input_sig (float): timeseries to be filtered (in time domain)\n",
    "        input_filter (float): filter to apply to input_sig (in frequency domain)\n",
    "\n",
    "    Returns:\n",
    "        filt_sig (float array): filtered signal in time domain\n",
    "\n",
    "    \"\"\"\n",
    "    \n",
    "    # fft our time domain signal\n",
    "    fft_sig = np.fft.rfft(input_sig)\n",
    "\n",
    "    # multiply in freq domain, then ifft to go back into the time domain\n",
    "    return np.fft.irfft(fft_sig*input_filter)\n",
    "\n",
    "\n",
    "# Another function to apply the filter. this second function will be in the same module      \n",
    "def apply_filt_2D(input_sig, input_filter):\n",
    "    \"\"\"Apply a filter to an input timeseries (using freq domain multiplication)\n",
    "\n",
    "    Args:\n",
    "        input_sig (float): timeseries to be filtered (in time domain). To keep it simple for our sample\n",
    "        data set, time will run over rows in the data so we will fft with axis=1\n",
    "        \n",
    "        input_filter (float): filter to apply to input_sig (in frequency domain)\n",
    "\n",
    "    Returns:\n",
    "        filt_sig (float array): filtered signal in time domain\n",
    "\n",
    "    \"\"\"\n",
    "    r,c = input_sig.shape\n",
    "    \n",
    "    # fft our time domain signal\n",
    "    fft_sig = np.fft.rfft(input_sig, axis = 1)\n",
    "    \n",
    "    # make our filter the same size as the data. \n",
    "    filt_2d = np.tile(input_filter,(r,1))\n",
    "    \n",
    "    # multiply in freq domain, then ifft to go back into the time domain\n",
    "    return np.fft.irfft(fft_sig*filt_2d)"
   ]
  },
  {
   "cell_type": "markdown",
   "metadata": {},
   "source": [
    "### Load our 'module' with the two functions that we wrote...\n",
    "* get 'help' with the ?"
   ]
  },
  {
   "cell_type": "code",
   "execution_count": null,
   "metadata": {},
   "outputs": [],
   "source": [
    "# import our filter object\n",
    "import my_brick_filt as mbf\n",
    "\n",
    "# do this so that if you modify your .py file it will automatically reload\n",
    "%load_ext autoreload\n",
    "%autoreload 2\n",
    "# note: 2== Reload all modules (except those excluded by %aimport) every time before executing the Python code typed."
   ]
  },
  {
   "cell_type": "code",
   "execution_count": null,
   "metadata": {},
   "outputs": [],
   "source": [
    "mbf.define_filt?"
   ]
  },
  {
   "cell_type": "markdown",
   "metadata": {},
   "source": [
    "### Then define a high pass filter..."
   ]
  },
  {
   "cell_type": "code",
   "execution_count": null,
   "metadata": {},
   "outputs": [],
   "source": [
    "# use our signal (sig) and freq_x from earlier in the tutoral\n",
    "hp = 12   # pass high frequencies above 10hz\n",
    "hp_filt = mbf.define_filt(fx=freq_x, filt_freq=hp, type_filt='hp')\n",
    "\n",
    "lp = 5   # pass high frequencies above 10hz\n",
    "lp_filt = mbf.define_filt(fx=freq_x, filt_freq=hp, type_filt='lp')"
   ]
  },
  {
   "cell_type": "code",
   "execution_count": null,
   "metadata": {},
   "outputs": [],
   "source": [
    "# have a look at the hp filter...\n",
    "plt.plot(freq_x, hp_filt)\n",
    "\n",
    "plt.xlabel('Frequency')\n",
    "plt.ylabel('Amplitude')\n",
    "# plt.xticks(frequs[1::2], color='k', size=20)\n",
    "# plt.yticks((0,1,2), color='k', size=20)\n",
    "\n",
    "# set the axis limits\n",
    "plt.xlim([0, Hf+1])\n",
    "plt.show()"
   ]
  },
  {
   "cell_type": "markdown",
   "metadata": {},
   "source": [
    "### Now apply it using our function!\n",
    "* also introduce passing input params by keyword\n",
    "* a little more typing, but more robust to argument order errors"
   ]
  },
  {
   "cell_type": "code",
   "execution_count": null,
   "metadata": {},
   "outputs": [],
   "source": [
    "filt_sig = mbf.apply_filt(input_sig=sig, input_filter=hp_filt)"
   ]
  },
  {
   "cell_type": "code",
   "execution_count": null,
   "metadata": {},
   "outputs": [],
   "source": [
    "# have a look at the hp filtered data...\n",
    "plt.plot(t, sig)\n",
    "plt.plot(t, filt_sig, 'k')\n",
    "\n",
    "plt.xlabel('Time')\n",
    "plt.ylabel('Signal amp')\n",
    "\n",
    "plt.show()"
   ]
  },
  {
   "cell_type": "markdown",
   "metadata": {},
   "source": [
    "### fft our filtered time domain signal and plot..."
   ]
  },
  {
   "cell_type": "code",
   "execution_count": null,
   "metadata": {},
   "outputs": [],
   "source": [
    "# do fft...\n",
    "amp, cplx, freq_x = do_fft(filt_sig, dt)\n",
    "\n",
    "plt.plot(freq_x, amp)\n",
    "\n",
    "plt.xlabel('Frequency')\n",
    "plt.ylabel('Amplitude')\n",
    "# plt.xticks(frequs[1::2], color='k', size=20)\n",
    "# plt.yticks((0,1,2), color='k', size=20)\n",
    "\n",
    "# set the axis limits\n",
    "plt.xlim([0, Hf+1])\n",
    "\n",
    "plt.show()"
   ]
  },
  {
   "cell_type": "markdown",
   "metadata": {},
   "source": [
    "# More advanced concepts...roll-off, filters that go on forever in the time domain, time/freq resolution tradeoff, and how to deal with this... "
   ]
  },
  {
   "cell_type": "markdown",
   "metadata": {},
   "source": [
    "## What does that filter look like in the time domain?\n",
    "* Inverse FFT the low-pass filter\n",
    "* Its a sinc (cardinal sin) function\n",
    "\n",
    "<div class=\"alert alert-info\">\n",
    "Notice that that the time-domain representation goes on forever in both directions...its high resolution in the frequency domain forces a low res time domain response. This is a problem for implementing with finite length data sets! We'll see how to address this below. \n",
    "</div>"
   ]
  },
  {
   "cell_type": "code",
   "execution_count": null,
   "metadata": {},
   "outputs": [],
   "source": [
    "# iFFT\n",
    "inv_filter = np.fft.irfft(lp_filt)\n",
    "\n",
    "# symetric over the span, so center to better visualize\n",
    "inv_filter = np.roll(inv_filter, int(len(inv_filter)/2))\n",
    "plt.plot(t, inv_filter)\n",
    "plt.xlabel('Samples in signal')\n",
    "plt.ylabel('Amplitude')\n",
    "plt.title('iFFT of brick wall lp filter')\n",
    "plt.show()"
   ]
  },
  {
   "cell_type": "markdown",
   "metadata": {},
   "source": [
    "### Make another simulated signal with some higher frequencies in it (makes for a better example and can play with filtering higher frequs). "
   ]
  },
  {
   "cell_type": "code",
   "execution_count": null,
   "metadata": {},
   "outputs": [],
   "source": [
    "sr = 512                        # samp rate in Hz\n",
    "tmax = 4                        # duration of signal, in s\n",
    "dt = 1/sr                       # time step, reciprocal of the sr\n",
    "t = np.arange(0,tmax,dt)        # time axis\n",
    "\n",
    "#generate list\n",
    "frequs = [3,20,60]\n",
    "\n",
    "# add up a bunch of sin waves at each of our desired frequencies\n",
    "sig = np.zeros(len(t))\n",
    "for f in np.arange(len(frequs)):\n",
    "    sig += np.sin(2*np.pi*frequs[f]*t)\n",
    "    "
   ]
  },
  {
   "cell_type": "markdown",
   "metadata": {},
   "source": [
    "## Now take a look at how to design this kind of filter in a more principled manner and deal with the infinite fall-off of the sinc for finite length data sets\n",
    "* The iFFT of an ideal lp filter is a sinc function\n",
    "* Can build the function in the time domain, then fft the filter and the signal, the multiply, then iFFT to get our filtered signal"
   ]
  },
  {
   "cell_type": "code",
   "execution_count": null,
   "metadata": {},
   "outputs": [],
   "source": [
    "# First specify a cutoff frequency, fc, that is a fraction of the sampling rate over 0, .5...why is the max .5?\n",
    "# hint: remember from last week how the sr limited the frequency range you can estimate using a FFT...\n",
    "fc = 0.1 \n",
    "\n",
    "# and fc*sr == cutoff freq\n",
    "\n",
    "# Then specify the transition band, again this will be a fraction of the sampling rate over 0, .5\n",
    "# smaller numbers here will more closely mimic a brick wall (good frequ res, poor temporal res)\n",
    "b = 0.05  \n",
    "\n",
    "# more on this below, but now need to make sure that ceil(4/b) is odd\n",
    "N = int(np.ceil((4 / b)))\n",
    "\n",
    "# figure this out by returning the remainder (modulo operator) after dividing by 2\n",
    "# if its even, then this == 0, else non-zero, so if its not true (i.e. == 0), then we add 1!\n",
    "# if you don't do this then the function won't be centered\n",
    "# An odd-length symmetrical filter will have delay that is an integer number of samples\n",
    "# more on this in a bit...\n",
    "if not N % 2: N += 1  \n",
    "    \n",
    "# generate span over which to eval sinc function    \n",
    "n = np.arange(N)\n",
    "\n",
    "# Compute the filter, taking into account our cutoff freq\n",
    "sinc_func = np.sinc(2 * fc * (n - (N - 1) / 2.))\n",
    " \n",
    "# Normalize to have an area of 1 (unit area)\n",
    "sinc_func = sinc_func / np.sum(sinc_func)"
   ]
  },
  {
   "cell_type": "markdown",
   "metadata": {},
   "source": [
    "## Plot the sinc function"
   ]
  },
  {
   "cell_type": "code",
   "execution_count": null,
   "metadata": {},
   "outputs": [],
   "source": [
    "plt.plot(n, sinc_func)\n",
    "plt.xlabel('Samples')\n",
    "plt.ylabel('Amplitude')\n",
    "plt.title('Sinc filter in time domain')\n",
    "plt.show()"
   ]
  },
  {
   "cell_type": "markdown",
   "metadata": {},
   "source": [
    "## Now lets look at the frequency domain representation of this filter\n",
    "* Remember that a sinc function goes on forever in both directions, and we've only evaluated it over a small range"
   ]
  },
  {
   "cell_type": "code",
   "execution_count": null,
   "metadata": {},
   "outputs": [],
   "source": [
    "# take the fft, convert to amplitude, then normalize\n",
    "sinc_fft = (np.abs(np.fft.rfft(sinc_func)) / len(filtered_sig) ) * 2\n",
    "\n",
    "# figure out the frequency resolution of the data\n",
    "# recall that our 'dt' here is calculated based on the signal \n",
    "# that we set up at the begining of the tutorial with a \n",
    "# sr = 512, so fc*512 should be around our filter fall-off\n",
    "freq = np.fft.rfftfreq(sinc_func.size, dt)   \n",
    "\n",
    "plt.plot(freq, sinc_fft)\n",
    "plt.axvline(fc*sr, color = 'k', linewidth = 2)\n",
    "plt.xlim([0,100])\n",
    "plt.xlabel('Frequency')\n",
    "plt.ylabel('Amplitude')\n",
    "plt.title('Sinc filter in frequ domain')\n",
    "plt.show()"
   ]
  },
  {
   "cell_type": "markdown",
   "metadata": {},
   "source": [
    "### Note that it looks sort of like our brick wall filter, but the fall-off is not quite so sharp and there are weird bumps in it (esp in the low frequ part of the band)\n",
    "* Our 'b' param will control the sharpness of the fall-off\n",
    "* The bumps are the by-product of truncating a filter function that goes in both directions forever...\n",
    "* Solution for the bumps is to apply a window that dampens the edge artifacts\n",
    "    * A common choice - from among many - is a Blackman window "
   ]
  },
  {
   "cell_type": "code",
   "execution_count": null,
   "metadata": {},
   "outputs": [],
   "source": [
    "# build a Blackman window (by hand at first), take a look, and then apply to the filter and recompute everything\n",
    "b_window = 0.42 - 0.5 * np.cos(2 * np.pi * n / (N - 1)) + \\\n",
    "    0.08 * np.cos(4 * np.pi * n / (N - 1))\n",
    "\n",
    "# or, the boring way\n",
    "# b_window = np.blackman(N)\n",
    "\n",
    "plt.plot(n, b_window)\n",
    "plt.xlabel('Samples')\n",
    "plt.ylabel('Amplitude')\n",
    "plt.title('Blackman Window')\n",
    "plt.show()"
   ]
  },
  {
   "cell_type": "markdown",
   "metadata": {},
   "source": [
    "#### Apply the window to the sinc filter...\n",
    "* Should dampend the edges while leaving the center of the filter unchanged"
   ]
  },
  {
   "cell_type": "code",
   "execution_count": null,
   "metadata": {},
   "outputs": [],
   "source": [
    "# element-wise multiplication\n",
    "win_sinc_func = sinc_func * b_window\n",
    "plt.plot(n, sinc_func)\n",
    "plt.plot(n, win_sinc_func)\n",
    "plt.legend(['Original sinc', 'Windowed sinc'])\n",
    "plt.xlabel('Samples')\n",
    "plt.ylabel('Amplitude')\n",
    "plt.title('Blackman Windowed sinc function')\n",
    "plt.show()"
   ]
  },
  {
   "cell_type": "markdown",
   "metadata": {},
   "source": [
    "### Now lets have a look at the frequency domain representation of the windowed sinc function\n",
    "* Should yeild a nice smooth function in the frequency domain!"
   ]
  },
  {
   "cell_type": "code",
   "execution_count": null,
   "metadata": {},
   "outputs": [],
   "source": [
    "# take the fft, convert to amplitude, then normalize\n",
    "win_sinc_fft = (np.abs(np.fft.rfft(win_sinc_func)) / len(filtered_sig) ) * 2\n",
    "\n",
    "# figure out the frequency resolution of the data\n",
    "# recall that our 'dt' here is calculated based on the signal \n",
    "# that we set up at the begining of the tutorial with a \n",
    "# sr = 512, so fc*512 should be around our filter fall-off\n",
    "freq = np.fft.rfftfreq(win_sinc_func.size, dt)   \n",
    "\n",
    "# plot\n",
    "plt.plot(freq, sinc_fft)\n",
    "plt.plot(freq, win_sinc_fft)\n",
    "plt.legend(['Original sinc', 'Windowed sinc'])\n",
    "plt.axvline(fc*sr, color = 'k', linewidth = 2)\n",
    "plt.xlabel('Frequency')\n",
    "plt.ylabel('Amplitude')\n",
    "plt.title('Sinc filter in frequ domain')\n",
    "plt.show()"
   ]
  },
  {
   "cell_type": "markdown",
   "metadata": {},
   "source": [
    "## Now let's apply the windowed sinc function to the data to see how well it works."
   ]
  },
  {
   "cell_type": "code",
   "execution_count": null,
   "metadata": {},
   "outputs": [],
   "source": [
    "# fft our signal\n",
    "fft_sig = np.fft.rfft(sig)\n",
    "\n",
    "# need to zero pad to make the filter the same length as the signal\n",
    "X = len(sig)\n",
    "Y = len(win_sinc_func)\n",
    "\n",
    "# zero pad in the time domain\n",
    "if Y<X:\n",
    "    win_sinc_func = np.hstack((win_sinc_func, np.zeros(X-Y)))\n",
    "\n",
    "# fft the filter\n",
    "fft_filt = np.fft.rfft(win_sinc_func)\n",
    "\n",
    "# multiply in freq domain, then ifft to go back into the time domain\n",
    "filt_sig = np.fft.irfft(fft_sig*fft_filt)"
   ]
  },
  {
   "cell_type": "code",
   "execution_count": null,
   "metadata": {},
   "outputs": [],
   "source": [
    "# Plot the regular signal\n",
    "plt.plot(t, sig)\n",
    "plt.xlabel('Samples')\n",
    "plt.ylabel('Amplitude')\n",
    "plt.title('Original Signal')\n",
    "plt.show()\n",
    "\n",
    "# plot the filtered signal\n",
    "plt.plot(t, filt_sig)\n",
    "plt.xlabel('Samples')\n",
    "plt.ylabel('Amplitude')\n",
    "plt.title('Filtered Signal')\n",
    "plt.show()"
   ]
  },
  {
   "cell_type": "markdown",
   "metadata": {},
   "source": [
    "## See how well we did - our filter should have cut off > 50Hz and retained frequencies lower than the cutoff and left them relatively unchanged\n",
    "* Notice that power at the 50Hz component of our signal is heavily attenuated!\n",
    "* Go back and repeat with b = .01 - that will make the roll-off much sharper in the frequ domain (i.e. closer to a brick wall filter we started off with)"
   ]
  },
  {
   "cell_type": "code",
   "execution_count": null,
   "metadata": {},
   "outputs": [],
   "source": [
    "# fft our signal\n",
    "fft_sig = (np.abs(np.fft.rfft(sig)) / len(sig) ) * 2\n",
    "freq = np.fft.rfftfreq(sig.size, dt)   \n",
    "\n",
    "# fft our filtered signal\n",
    "fft_filt_sig = (np.abs(np.fft.rfft(filt_sig)) / len(filt_sig) ) * 2\n",
    "\n",
    "# plot\n",
    "plt.plot(freq, fft_sig, marker='o')\n",
    "plt.plot(freq, fft_filt_sig, marker='o')\n",
    "plt.xlabel('Frequency')\n",
    "plt.ylabel('Amplitude')\n",
    "plt.xlim([0, 80])\n",
    "plt.ylim([0, 2])\n",
    "plt.legend(['Original Signal', 'Filtered Signal'])\n",
    "plt.show()"
   ]
  },
  {
   "cell_type": "markdown",
   "metadata": {},
   "source": [
    "## So the filtering part works...however, if you plot the filtered signal on top of the original signal, you'll notice that there is a temporal shift that depends on the filter roll-off (b)\n",
    "* The length of the filter is N, then we can correct for this by shifting by (N-1)/2"
   ]
  },
  {
   "cell_type": "code",
   "execution_count": null,
   "metadata": {},
   "outputs": [],
   "source": [
    "# to see this most clearly, lets just zoom in and plot a small segment of the data\n",
    "# can do boolean indexing, but demo the \"where\" function here (like Matlab \"find\")\n",
    "index = np.where((t>=1) & (t<1.5))\n",
    "\n",
    "# plot\n",
    "plt.plot(t[index], sig[index])\n",
    "plt.plot(t[index], filt_sig[index])\n",
    "plt.xlabel('Frequency')\n",
    "plt.ylabel('Amplitude')\n",
    "plt.legend(['Original Signal', 'Filtered Signal'])\n",
    "plt.show()"
   ]
  },
  {
   "cell_type": "markdown",
   "metadata": {},
   "source": [
    "### Can account for that shift pretty easily\n",
    "* Remember that we made our filter length odd (N in the filter definition, which in turn is related to b, or the roll off)\n",
    "* We can then shift the filtered data by (N-1)/2 timepoints, or 1/2 of the filter width, to correct for offset"
   ]
  },
  {
   "cell_type": "code",
   "execution_count": null,
   "metadata": {},
   "outputs": [],
   "source": [
    "index = np.where((t>=1) & (t<1.5))\n",
    "# shift by (N-1)/2 - this will be an integer so long as N is odd\n",
    "# which is a condition that we enforced earlier when designing the \n",
    "# filter...shift by corresponding timepoints\n",
    "shift_by = dt*((N-1)/2)  # convert to units of filter length in time: so number of points * dt\n",
    "shift_index = np.where((t>=1+shift_by) & (t<1.5+shift_by))\n",
    "\n",
    "# plot - should be all lined up!\n",
    "plt.plot(t[index], sig[index])\n",
    "plt.plot(t[index], filt_sig[shift_index])\n",
    "plt.xlabel('Frequency')\n",
    "plt.ylabel('Amplitude')\n",
    "plt.legend(['Original Signal', 'Filtered Signal'])\n",
    "plt.show()"
   ]
  },
  {
   "cell_type": "markdown",
   "metadata": {},
   "source": [
    "## Why not have a sharp roll-off all the time, esp given that you can shift your data around in time to account for the offset?\n",
    "* Sharper roll off filters lead to larger shift in the time domain of the output signal\n",
    "* This is due to the inherent trade-off between time-domain and frequency domain resolution (so sharper freq domain filter, or steeper roll off, will require a longer window in the time domain).\n",
    "* For finite length signals this can be a problem (e.g. if you only have 0.5 sec of signal that you're filtering...)"
   ]
  }
 ],
 "metadata": {
  "kernelspec": {
   "display_name": "Python 3",
   "language": "python",
   "name": "python3"
  },
  "language_info": {
   "codemirror_mode": {
    "name": "ipython",
    "version": 3
   },
   "file_extension": ".py",
   "mimetype": "text/x-python",
   "name": "python",
   "nbconvert_exporter": "python",
   "pygments_lexer": "ipython3",
   "version": "3.8.5"
  }
 },
 "nbformat": 4,
 "nbformat_minor": 2
}
