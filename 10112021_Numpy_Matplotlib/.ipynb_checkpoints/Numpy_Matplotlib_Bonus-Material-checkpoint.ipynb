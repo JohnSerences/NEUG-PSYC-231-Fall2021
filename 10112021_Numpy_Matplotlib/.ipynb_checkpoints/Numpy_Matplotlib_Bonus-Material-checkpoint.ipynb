{
 "cells": [
  {
   "cell_type": "markdown",
   "metadata": {},
   "source": [
    "# Some more advanced numpy/matplotlib stuff related to basic tutorial \n",
    "* We'll get to most of this in the coming tutorials and problem sets...\n",
    "* TOC: \n",
    "    * generating random numbers from a normal distribution (can extend to other distributions as well)\n",
    "        * also includes demo of interacting with ax and hist using matplotlib\n",
    "    * upcasting when combining different data types\n",
    "    * set logic\n",
    "    * concatenating, or stacking, arrays\n",
    "    * fancy indexing (using an array to index into another array - and yes, it really is called fancy indexing)\n",
    "    * shape manipulation"
   ]
  },
  {
   "cell_type": "code",
   "execution_count": 1,
   "metadata": {},
   "outputs": [],
   "source": [
    "import numpy as np\n",
    "import matplotlib.pyplot as plt\n",
    "from scipy.stats import norm"
   ]
  },
  {
   "cell_type": "markdown",
   "metadata": {},
   "source": [
    "## Numpy random.randn: random draws from a normal distribution N(0,1)...i.e., mean 0 and variance 1. \n",
    "* To change mean(m) and variance (v), use: m + (np.random.randn(x) * np.sqrt(v)) where x is the number of draws"
   ]
  },
  {
   "cell_type": "code",
   "execution_count": 2,
   "metadata": {},
   "outputs": [
    {
     "name": "stdout",
     "output_type": "stream",
     "text": [
      "Mean: 0.0036926894139827806 Var: 0.998859571841853\n",
      "Mean: 10.002789833796342 Var: 2.990535145224938\n"
     ]
    }
   ],
   "source": [
    "# define number of samples\n",
    "x = 100000\n",
    "\n",
    "# drawn from normal with mean 0 and variance 1\n",
    "randn_array = np.random.randn(x)  \n",
    "print('Mean:', np.mean(randn_array), 'Var:', np.var(randn_array))\n",
    "\n",
    "# drawn from normal with mean 10 and variance 3\n",
    "m = 10\n",
    "v = 3\n",
    "randn_array = m + (np.random.randn(x) * np.sqrt(v)) \n",
    "print('Mean:', np.mean(randn_array), 'Var:', np.var(randn_array))"
   ]
  },
  {
   "cell_type": "markdown",
   "metadata": {},
   "source": [
    "## Use randn to generate draws from a normal distribtion with mean = mu and std = sig and then plot a histogram"
   ]
  },
  {
   "cell_type": "code",
   "execution_count": 3,
   "metadata": {},
   "outputs": [
    {
     "data": {
      "image/png": "[encoded data removed]",
      "text/plain": [
       "<Figure size 432x288 with 2 Axes>"
      ]
     },
     "metadata": {
      "needs_background": "light"
     },
     "output_type": "display_data"
    }
   ],
   "source": [
    "# shift the mean and scale the variance for a N(mu,var)\n",
    "samples = 1000\n",
    "mu = 4\n",
    "sig = 20\n",
    "num_bins = 30\n",
    "\n",
    "# generate the array of rand numbers \n",
    "rand_array = mu + (sig * np.random.randn(samples))   # drawn from normal with mean mu and variance sig\n",
    "\n",
    "# make multiple axes...\n",
    "fig, (ax1,ax2) = plt.subplots(2,1, sharex=True)\n",
    "\n",
    "# generate the histogram, note density == 1 (so unit area)\n",
    "ax1.hist(rand_array, num_bins, density=0)\n",
    "ax1.set_ylabel('Trial count')\n",
    "\n",
    "# generate a pdf evaled at 'bins' to draw a smooth function - this works because we used randn to generate the data\n",
    "n, bins, patches = ax2.hist(rand_array, num_bins, density=1)\n",
    "\n",
    "y = norm.pdf(bins, mu, sig)\n",
    "ax2.plot(bins, y, 'k--', linewidth = 6)\n",
    "ax2.set_xlabel('Random Variable')\n",
    "ax2.set_ylabel('Probability density')\n",
    "\n",
    "# show the plot\n",
    "plt.show()"
   ]
  },
  {
   "cell_type": "markdown",
   "metadata": {},
   "source": [
    "## When dealing with muliple arrays of different data types, resulting array will take the form of the highest precision input array (upcasting)!"
   ]
  },
  {
   "cell_type": "code",
   "execution_count": 4,
   "metadata": {
    "scrolled": true
   },
   "outputs": [
    {
     "name": "stdout",
     "output_type": "stream",
     "text": [
      "x data type:  int32\n",
      "y data type:  float64\n",
      "[[-0.         -0.6526952   0.55896778 -0.88131946 -1.06883755 -4.4551175\n",
      "   2.80489059  5.08299927  5.55120053  1.79818989]]\n",
      "z data type:  float64\n"
     ]
    }
   ],
   "source": [
    "x = np.arange(10, dtype='int32')\n",
    "print('x data type: ', x.dtype)\n",
    "\n",
    "y = np.random.randn(1,10)\n",
    "print('y data type: ', y.dtype)\n",
    "\n",
    "# now multiply the int32 array with the float64 array and answer should be the higher precision of the two (float64)\n",
    "z = x * y \n",
    "print(z)\n",
    "print('z data type: ', z.dtype)"
   ]
  },
  {
   "cell_type": "markdown",
   "metadata": {},
   "source": [
    "## Set logic...unions, intersections, unique\n",
    "* combine all unique elements across sets, find overlap, find unique elements in array, etc..."
   ]
  },
  {
   "cell_type": "code",
   "execution_count": 5,
   "metadata": {
    "scrolled": false
   },
   "outputs": [
    {
     "name": "stdout",
     "output_type": "stream",
     "text": [
      "[ 0  1  2  3  4  5  6  7  8  9 10 11 12 13 14 15 16 17 18 19]\n",
      "[ 0.  1.  2.  3.  4.  5.  6.  7.  8.  9. 10. 11. 12. 13. 14. 15. 16. 17.\n",
      " 18. 19. 20.]\n",
      "[ 0.  1.  2.  3.  4.  5.  6.  7.  8.  9. 10. 11. 12. 13. 14. 15. 16. 17.\n",
      " 18. 19. 20.]\n",
      "[ 0.  1.  2.  3.  4.  5.  6.  7.  8.  9. 10. 11. 12. 13. 14. 15. 16. 17.\n",
      " 18. 19.]\n",
      "[ 0.  1.  2.  3.  4.  5.  6.  7.  8.  9. 10. 11. 12. 13. 14. 15. 16. 17.\n",
      " 18. 19. 20.]\n"
     ]
    }
   ],
   "source": [
    "x = np.arange(20)\n",
    "y = np.linspace(0, 20, 21)\n",
    "print(x)\n",
    "print(y)\n",
    "\n",
    "z = np.union1d(x,y)\n",
    "print(z)\n",
    "\n",
    "z = np.intersect1d(x,y)\n",
    "print(z)\n",
    "\n",
    "z = np.unique([np.append(x,y)])\n",
    "print(z)"
   ]
  },
  {
   "cell_type": "markdown",
   "metadata": {},
   "source": [
    "## Iterating over numpy arrays\n",
    "* goes down first dim (rows)\n",
    "* can use ndarray.flat method to flatten ND array in 1D array"
   ]
  },
  {
   "cell_type": "code",
   "execution_count": 17,
   "metadata": {},
   "outputs": [
    {
     "name": "stdout",
     "output_type": "stream",
     "text": [
      "[[-0.59651019  0.986509   -0.42021373]\n",
      " [-0.28693685 -1.09361131  0.86713787]]\n",
      "\n",
      "\n",
      "Row 0 [-0.59651019  0.986509   -0.42021373]\n",
      "Row 1 [-0.28693685 -1.09361131  0.86713787]\n"
     ]
    }
   ],
   "source": [
    "x = np.random.randn(2,3)\n",
    "print(x)\n",
    "print('\\n')\n",
    "for c,i in enumerate(x):\n",
    "    print('Row', str(c), i)"
   ]
  },
  {
   "cell_type": "code",
   "execution_count": 22,
   "metadata": {},
   "outputs": [
    {
     "name": "stdout",
     "output_type": "stream",
     "text": [
      "(2, 4, 3)\n",
      "0.15610623214145747\n",
      "0.5607117816755822\n",
      "0.5515703221225193\n",
      "0.16329307666064452\n",
      "0.4029637557856903\n",
      "0.522656972554246\n",
      "0.5902004369759055\n",
      "0.28302554605555375\n",
      "0.048166250121590704\n",
      "0.11395573641101919\n",
      "0.9146989293300648\n",
      "0.9203098531364307\n",
      "0.8734525791090205\n",
      "0.1537906155404405\n",
      "0.5619386374994416\n",
      "0.4477493054310706\n",
      "0.6794857831388688\n",
      "0.3915190075864027\n",
      "0.015477606835546776\n",
      "0.01653717553355294\n",
      "0.5503083700493544\n",
      "0.1491456200132827\n",
      "0.6400203992805764\n",
      "0.08721815023038704\n"
     ]
    }
   ],
   "source": [
    "# can also iterate over all entries in the array using 'flat'\n",
    "# will proceed along 1st row, then to 2nd row, etc.\n",
    "x = np.random.rand(2,4,3)\n",
    "print(x.shape)\n",
    "for a in x.flat:\n",
    "    print(a)"
   ]
  },
  {
   "cell_type": "markdown",
   "metadata": {},
   "source": [
    "## Concatenating arrays (stacking)"
   ]
  },
  {
   "cell_type": "code",
   "execution_count": 6,
   "metadata": {},
   "outputs": [
    {
     "name": "stdout",
     "output_type": "stream",
     "text": [
      "shape of z after vert stacking x,y:  (10, 6)\n",
      "shape of z after horizontal stacking x,y:  (5, 12)\n",
      "shape of z after column stacking x,y:  (5, 12)\n",
      "shape of z after vertical concat x,y:  (10, 6)\n",
      "shape of z after horizontal concat x,y:  (5, 12)\n"
     ]
    }
   ],
   "source": [
    "# use floor and ceil to make two 5x6 arrays of rand numbers\n",
    "x = np.floor(np.random.rand(5,6)*10)\n",
    "y = np.ceil(np.random.rand(5,6)*2)\n",
    "\n",
    "# vertical stacking of arrays...will make a 10x6\n",
    "z = np.vstack((x,y))\n",
    "print('shape of z after vert stacking x,y: ', z.shape)\n",
    "\n",
    "# horizontal stacking of arrays...will make a 5x12\n",
    "z = np.hstack((x,y))\n",
    "print('shape of z after horizontal stacking x,y: ', z.shape)\n",
    "\n",
    "# column stacking of arrays...will make a 5x12\n",
    "z = np.column_stack((x,y))\n",
    "print('shape of z after column stacking x,y: ', z.shape)\n",
    "\n",
    "# concatenate allows stacking along specified dim\n",
    "z = np.concatenate((x,y),axis=0)   # vstack - stack rows on top of each other\n",
    "print('shape of z after vertical concat x,y: ', z.shape)\n",
    "\n",
    "z = np.concatenate((x,y),axis=1)   # hstack - stack columns next to each other\n",
    "print('shape of z after horizontal concat x,y: ', z.shape)"
   ]
  },
  {
   "cell_type": "markdown",
   "metadata": {},
   "source": [
    "## Fancy indexing...using arrays to index arrays - used all the time in data analysis...\n",
    "* fancy indexing always makes a COPY of the data (unlike slicing which creates a view)!!! "
   ]
  },
  {
   "cell_type": "code",
   "execution_count": 7,
   "metadata": {},
   "outputs": [
    {
     "name": "stdout",
     "output_type": "stream",
     "text": [
      "[[0.91416476 0.8086354  0.7560708  0.13162814]\n",
      " [0.45302677 0.99614452 0.22010501 0.13502435]\n",
      " [0.04661493 0.73926891 0.71014696 0.38362178]]\n"
     ]
    },
    {
     "data": {
      "text/plain": [
       "0.3836217846544825"
      ]
     },
     "execution_count": 7,
     "metadata": {},
     "output_type": "execute_result"
    }
   ],
   "source": [
    "# define an array\n",
    "x = np.random.rand(3,4)\n",
    "\n",
    "print(x)\n",
    "\n",
    "# index array - can be a tuple, in this case to pull out the lower right entry\n",
    "y = (2,3)\n",
    "\n",
    "# index\n",
    "x[y]"
   ]
  },
  {
   "cell_type": "code",
   "execution_count": 8,
   "metadata": {},
   "outputs": [
    {
     "name": "stdout",
     "output_type": "stream",
     "text": [
      "[[0.04661493 0.73926891 0.71014696 0.38362178]\n",
      " [0.45302677 0.99614452 0.22010501 0.13502435]\n",
      " [0.91416476 0.8086354  0.7560708  0.13162814]]\n"
     ]
    }
   ],
   "source": [
    "# this will extract the 3rd row, then the 2nd row, then the first row (flipud)\n",
    "print(x[[2,1,0]])"
   ]
  },
  {
   "cell_type": "code",
   "execution_count": 9,
   "metadata": {},
   "outputs": [
    {
     "name": "stdout",
     "output_type": "stream",
     "text": [
      "[[0.91416476 0.8086354  0.7560708  0.13162814]\n",
      " [0.45302677 0.99614452 0.22010501 0.13502435]\n",
      " [0.04661493 0.73926891 0.71014696 0.38362178]]\n"
     ]
    },
    {
     "data": {
      "text/plain": [
       "array([0.99614452, 0.71014696])"
      ]
     },
     "execution_count": 9,
     "metadata": {},
     "output_type": "execute_result"
    }
   ],
   "source": [
    "# or can pass in multiple arrays...will return a 1D array \n",
    "# corresponding to each set of tuples (1,1) and (2,2) in this case\n",
    "print(x)\n",
    "x[[1,2],[1,2]]"
   ]
  },
  {
   "cell_type": "markdown",
   "metadata": {},
   "source": [
    "## Additional methods for shape manipulation"
   ]
  },
  {
   "cell_type": "code",
   "execution_count": 10,
   "metadata": {},
   "outputs": [
    {
     "name": "stdout",
     "output_type": "stream",
     "text": [
      "[[ -4.  -1.  -6.  -2.  -3.  -0.   7.  -2.]\n",
      " [  3.   1.  -3.  -0.   9.   8.   3.  11.]\n",
      " [ -2.   2.  -9.  -7.   3.   8.   8.   5.]\n",
      " [ -5.   4.   3.   1.  -4.   1.   2.  -2.]\n",
      " [  4.  -8.  -3.   8. -10.  -3.  -1.  -5.]\n",
      " [  0.  -1.   1.   0.   4.  -2.   3.   2.]]\n",
      "Shape of x:  (6, 8) \n",
      "Shape of flattened x: (48,)\n",
      "[[ -4.  -3.   3.   9.  -2.   3.  -5.  -4.   4. -10.   0.   4.]\n",
      " [ -1.  -0.   1.   8.   2.   8.   4.   1.  -8.  -3.  -1.  -2.]\n",
      " [ -6.   7.  -3.   3.  -9.   8.   3.   2.  -3.  -1.   1.   3.]\n",
      " [ -2.  -2.  -0.  11.  -7.   5.   1.  -2.   8.  -5.   0.   2.]]\n",
      "Reshaped x:  (12, 4) \n",
      "Reshaped x transposed:  (4, 12)\n"
     ]
    }
   ],
   "source": [
    "x = np.round(np.random.randn(6,8)*5)   # generate some random data from N(0,5), then round \n",
    "print(x)\n",
    "\n",
    "# flatten the array\n",
    "y = x.ravel()   \n",
    "print('Shape of x: ', x.shape, '\\nShape of flattened x:', y.shape)  # newline example + multiple outputs...\n",
    "\n",
    "# reshape\n",
    "x = x.reshape(12,4)   # 48 element array reshaped from a 6x8 to a 12x4\n",
    "\n",
    "# transpose - swap row/column\n",
    "print(x.T)\n",
    "print('Reshaped x: ', x.shape, '\\nReshaped x transposed: ', x.T.shape)"
   ]
  }
 ],
 "metadata": {
  "kernelspec": {
   "display_name": "Python 3",
   "language": "python",
   "name": "python3"
  },
  "language_info": {
   "codemirror_mode": {
    "name": "ipython",
    "version": 3
   },
   "file_extension": ".py",
   "mimetype": "text/x-python",
   "name": "python",
   "nbconvert_exporter": "python",
   "pygments_lexer": "ipython3",
   "version": "3.8.5"
  }
 },
 "nbformat": 4,
 "nbformat_minor": 4
}
