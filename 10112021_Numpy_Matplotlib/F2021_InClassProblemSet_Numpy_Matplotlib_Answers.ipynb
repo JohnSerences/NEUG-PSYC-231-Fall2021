{
 "cells": [
  {
   "cell_type": "code",
   "execution_count": 1,
   "metadata": {},
   "outputs": [],
   "source": [
    "import numpy as np\n",
    "import matplotlib.pyplot as plt"
   ]
  },
  {
   "cell_type": "markdown",
   "metadata": {},
   "source": [
    "### 1) Make an array of the first 12 even numbers with shape (2, 6). Print the resulting array following each step below. Use np.arange to make the sequence...\n",
    "\n",
    "* Make every other value of the second row odd by subtracting 1 from it.\n",
    "* Reverse the entries (columns) in the first row.\n",
    "* Make the last value of the entire array the sum of all the other numbers beside the last value.\n",
    "* Normalize the first row to have unit area (area of 1) by dividing by the sum of the first row and then overwriting the original contents of the first row with the normalized values. \n",
    "    * Did it work? or did you get a row of 0's after you normalized?\n",
    "    * If you got a row of zeros, how would you change your original input parameters to np.arange to make it work? think about data types..."
   ]
  },
  {
   "cell_type": "code",
   "execution_count": 34,
   "metadata": {},
   "outputs": [
    {
     "name": "stdout",
     "output_type": "stream",
     "text": [
      "float64\n",
      "[[ 2.  4.  6.  8. 10. 12.]\n",
      " [13. 16. 17. 20. 21. 24.]]\n",
      "[[12. 10.  8.  6.  4.  2.]\n",
      " [13. 16. 17. 20. 21. 24.]]\n",
      "[[ 12.  10.   8.   6.   4.   2.]\n",
      " [ 13.  16.  17.  20.  21. 129.]]\n",
      "[[2.85714286e-01 2.38095238e-01 1.90476190e-01 1.42857143e-01\n",
      "  9.52380952e-02 4.76190476e-02]\n",
      " [1.30000000e+01 1.60000000e+01 1.70000000e+01 2.00000000e+01\n",
      "  2.10000000e+01 1.29000000e+02]]\n"
     ]
    }
   ],
   "source": [
    "N = 12     # make a variable for how many even numbers you want so the routine is more flixible. \n",
    "\n",
    "even = np.arange(0.0, N * 2, 2).reshape(2, int(N/2)) + 2  # + 2 because 0 isn't even...\n",
    "print(even.dtype)\n",
    "\n",
    "# the way that works...need to make it a floating point array!\n",
    "# even = np.arange(0, N * 2, 2, dtype='float64').reshape(2, int(N/2)) + 2  # + 2 because 0 isn't even...\n",
    "# print(even.dtype)\n",
    "\n",
    "# then make every other entry in the 2nd row odd...\n",
    "even[1, ::2] -= 1\n",
    "print(even)\n",
    "\n",
    "# reverse the first row\n",
    "even[0, :] = even[0, ::-1]\n",
    "print(even)\n",
    "\n",
    "# # make last value of the entire array the sum of all the other numbers excluding the last number\n",
    "even[-1, -1] = np.sum(even) - even[-1, -1]\n",
    "print(even)\n",
    "\n",
    "# normalize each column of the array so that they sum to 1\n",
    "even[0,:] = even[0,:] / np.sum(even[0,:],axis=0)\n",
    "print(even)"
   ]
  },
  {
   "cell_type": "markdown",
   "metadata": {},
   "source": [
    " ### 2) Create a two-dimensional array called *pts* (common abbreviation of **points**), where the first columns contains 100 values of x linearly spaced from -5 to 5 and the second column contains the values for y = 0.5x - 1.\n",
    " \n",
    " * Print the shape of *pts* to ensure you have created the array correctly.\n",
    "     * Hint: first make x using linspace\n",
    "     * Then make y using the given equation\n",
    "     * Then google 'numpy column_stack' to concatenate x and y and assign to pnts\n",
    "     * Last check to make sure that pnts is a 100 x 2 matrix (100 rows and 2 columns) \n",
    " * Introduce uniformly distribution noise from (-1, 3) into the y values of the *pts*.\n",
    " * Ensure that the noise you introduced was distributed as you intended by plotting a histogram of the values you used for the noise (it should look roughly uniform). Search \"matplotlib hist\" to figure out how to make a histogram plot. \n",
    " * Create a scatter plot using the first and second columns of the *pts* array as x and y, respectively. \n",
    " * Now plot the line y = 0.5x - 1 on top of the scatter plot. \n",
    " * Even though the line you plotted uses the same equation as the data you generated in pts, it does not appear to be the best fit to the points. Why is this? "
   ]
  },
  {
   "cell_type": "code",
   "execution_count": 41,
   "metadata": {},
   "outputs": [
    {
     "name": "stdout",
     "output_type": "stream",
     "text": [
      "(100,)\n",
      "(100, 2)\n"
     ]
    },
    {
     "data": {
      "image/png": "[encoded data removed]",
      "text/plain": [
       "<Figure size 432x288 with 1 Axes>"
      ]
     },
     "metadata": {
      "needs_background": "light"
     },
     "output_type": "display_data"
    },
    {
     "data": {
      "image/png": "[encoded data removed]",
      "text/plain": [
       "<Figure size 432x288 with 1 Axes>"
      ]
     },
     "metadata": {
      "needs_background": "light"
     },
     "output_type": "display_data"
    }
   ],
   "source": [
    "N = 100\n",
    "\n",
    "x = np.linspace(-5, 5, N)\n",
    "y = 0.5 * x - 1\n",
    "print(y.shape)\n",
    "pts = np.column_stack((x, y))\n",
    "print(pts.shape)\n",
    "# a = 3\n",
    "# b = -1\n",
    "# noise = (b-a) * np.random.rand(N) + a\n",
    "\n",
    "\n",
    "noise = 4 * np.random.rand(N) - 1\n",
    "plt.hist(noise)\n",
    "plt.show()\n",
    "\n",
    "# add in the noise...\n",
    "pts[:, 1] = pts[:, 1] + noise\n",
    "\n",
    "# scatter plot the data points\n",
    "plt.scatter(pts[:,0], pts[:,1])\n",
    "# then draw the line...\n",
    "plt.plot(x, y, 'r')\n",
    "plt.show()"
   ]
  },
  {
   "cell_type": "code",
   "execution_count": 42,
   "metadata": {},
   "outputs": [
    {
     "data": {
      "text/plain": [
       "(1, 100)"
      ]
     },
     "execution_count": 42,
     "metadata": {},
     "output_type": "execute_result"
    }
   ],
   "source": [
    "noise.shape"
   ]
  },
  {
   "cell_type": "markdown",
   "metadata": {},
   "source": [
    "### 3) Make an array using linspace that goes from 0 to 360 in 180 steps. \n",
    "* Find all numbers in the array that are greater than 20\n",
    "* Find all numbers in the array that less than 160 and greater than 45\n",
    "* Find all numbers greater than 20 and less than 40 and assign to variable x. Then find all numbers that are greater than 60 and less than 81 and assign to variable y. \n",
    "    * Use an if...else statement and a boolean test to see if x and y are the same length. If they are, then multiply each element of x with the corresponding element in y. Do this first with a loop and then using the numpy equivalent. If x and y are not the same length then crop the longer of the two so that they are and then do the element by element multipication using a for loop. \n",
    "    * ***Make your implementation able to handle all cases of changing the range of values assigned to x and y (i.e. it will handle when x is longer than y and when y is longer than x)***\n",
    "    * Next repeat the last step with the if...then logic but replace your element-by-element loop with the numpy equivalent (get rid of the loop).\n",
    "* **Worth 5,000 bonus points**: which method, for loop vs numpy way, is faster? Google \"cell magic timeit\". Hint: when using the cell magic timeit, you'll need to do all variable assignments in the cell that you're timing (i.e. you'll need to assign x, y again in that cell)"
   ]
  },
  {
   "cell_type": "code",
   "execution_count": null,
   "metadata": {},
   "outputs": [],
   "source": [
    "# array of numbers...\n",
    "z = np.linspace(0,360,180)\n",
    "\n",
    "# part 1\n",
    "x = z[(z>20)]\n",
    "# print(x)\n",
    "\n",
    "# part 2\n",
    "x = z[(z<160)&(z>45)]\n",
    "# print(x)\n",
    "\n",
    "# part 3\n",
    "x = z[((z>20) & (z<40))]\n",
    "y = z[(z>60) & (z<81)]\n",
    "\n",
    "# way one, with for loops\n",
    "if len(x)==len(y):\n",
    "    out = np.full(len(x), np.nan)\n",
    "    for cnt in np.arange(len(x)):\n",
    "        out[cnt] = x[cnt]*y[cnt]\n",
    "else:\n",
    "    # crop the longer...\n",
    "    if len(x)>len(y):\n",
    "        x = x[:len(y)]\n",
    "    elif len(y)>len(x):\n",
    "        y = y[:len(x)]\n",
    "\n",
    "    # then loop \n",
    "    out = np.full(len(x), np.nan)\n",
    "    for cnt in np.arange(len(x)):\n",
    "        out[cnt] = x[cnt]*y[cnt]    \n",
    "        \n",
    "        \n",
    "# way two, without for loops\n",
    "if len(x)==len(y):\n",
    "    out = np.multiply(x,y)\n",
    "else:\n",
    "    # crop the longer...\n",
    "    if len(x)>len(y):\n",
    "        x = x[:len(y)]\n",
    "    elif len(y)>len(x):\n",
    "        y = y[:len(x)]\n",
    "\n",
    "    # then multiply \n",
    "    out = np.multiply(x,y)"
   ]
  },
  {
   "cell_type": "code",
   "execution_count": null,
   "metadata": {},
   "outputs": [],
   "source": [
    "%%timeit\n",
    "\n",
    "z = np.linspace(0,360,180)\n",
    "# part 3\n",
    "x = z[(z>20) & (z<40)]\n",
    "y = z[(z>80) & (z<101)]\n",
    "\n",
    "# way one, with for loops\n",
    "if len(x)==len(y):\n",
    "    out = np.full(len(x), np.nan)\n",
    "    for cnt in np.arange(len(x)):\n",
    "        out[cnt] = x[cnt]*y[cnt]\n",
    "else:\n",
    "    # crop the longer...\n",
    "    if len(x)>len(y):\n",
    "        x = x[:len(y)]\n",
    "    elif len(y)>len(x):\n",
    "        y = y[:len(x)]\n",
    "\n",
    "    # then loop \n",
    "    out = np.full(len(x), np.nan)\n",
    "    for cnt in np.arange(len(x)):\n",
    "        out[cnt] = x[cnt]*y[cnt] "
   ]
  },
  {
   "cell_type": "code",
   "execution_count": null,
   "metadata": {},
   "outputs": [],
   "source": [
    "%%timeit\n",
    "z = np.linspace(0,360,180)\n",
    "# part 3\n",
    "x = z[(z>20) & (z<40)]\n",
    "y = z[(z>80) & (z<101)]\n",
    "\n",
    "# way two, without for loops\n",
    "if len(x)==len(y):\n",
    "    out = np.multiply(x,y)\n",
    "else:\n",
    "    # crop the longer...\n",
    "    if len(x)>len(y):\n",
    "        x = x[:len(y)]\n",
    "    elif len(y)>len(x):\n",
    "        y = y[:len(x)]\n",
    "\n",
    "    # then loop \n",
    "    out = np.multiply(x,y)"
   ]
  }
 ],
 "metadata": {
  "kernelspec": {
   "display_name": "Python 3",
   "language": "python",
   "name": "python3"
  },
  "language_info": {
   "codemirror_mode": {
    "name": "ipython",
    "version": 3
   },
   "file_extension": ".py",
   "mimetype": "text/x-python",
   "name": "python",
   "nbconvert_exporter": "python",
   "pygments_lexer": "ipython3",
   "version": "3.8.5"
  }
 },
 "nbformat": 4,
 "nbformat_minor": 4
}
