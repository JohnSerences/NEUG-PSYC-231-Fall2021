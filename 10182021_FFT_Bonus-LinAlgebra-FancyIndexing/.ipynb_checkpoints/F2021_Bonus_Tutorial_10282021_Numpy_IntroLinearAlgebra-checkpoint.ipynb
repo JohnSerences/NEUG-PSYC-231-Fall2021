{
 "cells": [
  {
   "cell_type": "markdown",
   "metadata": {},
   "source": [
    "# Intro to linear algebra with NumPY\n",
    "[SciPy Reference page](https://docs.scipy.org/doc/numpy-1.14.0/reference/routines.linalg.html#matrix-and-vector-products)"
   ]
  },
  {
   "cell_type": "markdown",
   "metadata": {},
   "source": [
    "<div class=\"alert alert-info\">\n",
    "The ability to do matrix operations without looping is a super important feature of numpy (and matlab, for those of you coming from that language). If you're not familiar with matrix operations it can take some getting used to but mastering this stuff will make your code much faster and readable\n",
    "</div>"
   ]
  },
  {
   "cell_type": "code",
   "execution_count": 7,
   "metadata": {},
   "outputs": [],
   "source": [
    "# import numpy\n",
    "import numpy as np"
   ]
  },
  {
   "cell_type": "markdown",
   "metadata": {},
   "source": [
    "## first lets write out some simple operations using loops"
   ]
  },
  {
   "cell_type": "code",
   "execution_count": 9,
   "metadata": {},
   "outputs": [
    {
     "name": "stdout",
     "output_type": "stream",
     "text": [
      "x = [0 1 2 3 4] \n",
      "y = [ 0.   2.5  5.   7.5 10. ]\n",
      "Element-wise product of x and y is: [ 0.   2.5 10.  22.5 40. ]\n"
     ]
    }
   ],
   "source": [
    "# make two vectors\n",
    "x = np.arange(5)        # note that this is a vector of ints by default\n",
    "y = np.linspace(0,10,5) # and this is a vector of floats\n",
    "\n",
    "print('x =', x,'\\ny =', y)\n",
    "\n",
    "# then do element by element multiplication\n",
    "z = np.zeros((x.size))  # initialize an array of zeros\n",
    "\n",
    "for i in range(x.size):\n",
    "    z[i] = y[i]*x[i]\n",
    "\n",
    "print('Element-wise product of x and y is:', z)  "
   ]
  },
  {
   "cell_type": "markdown",
   "metadata": {},
   "source": [
    "<div class=\"alert alert-info\">\n",
    "BUT! much much easier and faster to do the element wise operation all in one line making use of numpy's matrix capabilities\n",
    "</div>"
   ]
  },
  {
   "cell_type": "code",
   "execution_count": 10,
   "metadata": {},
   "outputs": [
    {
     "name": "stdout",
     "output_type": "stream",
     "text": [
      "[ 0.   2.5 10.  22.5 40. ]\n",
      "[1.00000000e+00 1.00000000e+00 3.20000000e+01 3.78799512e+03\n",
      " 1.04857600e+06]\n",
      "[nan 0.4 0.4 0.4 0.4]\n"
     ]
    },
    {
     "name": "stderr",
     "output_type": "stream",
     "text": [
      "/anaconda3/lib/python3.6/site-packages/ipykernel_launcher.py:3: RuntimeWarning: invalid value encountered in true_divide\n",
      "  This is separate from the ipykernel package so we can avoid doing imports until\n"
     ]
    }
   ],
   "source": [
    "print(x*y)  # elementwise multiply\n",
    "print(x**y) # elementwise x^y\n",
    "print(x/y)  # elementwise division...why does this throw a runtime warning?"
   ]
  },
  {
   "cell_type": "markdown",
   "metadata": {},
   "source": [
    "## do a speed test using line magic"
   ]
  },
  {
   "cell_type": "code",
   "execution_count": 12,
   "metadata": {},
   "outputs": [
    {
     "name": "stdout",
     "output_type": "stream",
     "text": [
      "32.5 µs ± 40.7 ns per loop (mean ± std. dev. of 7 runs, 10000 loops each)\n"
     ]
    }
   ],
   "source": [
    "# first do this using a 'for' loop\n",
    "\n",
    "num_elements = 100\n",
    "x = np.arange(num_elements) \n",
    "y = np.arange(num_elements)\n",
    "\n",
    "z = np.zeros((num_elements))\n",
    "\n",
    "# loop and element-wise multiply\n",
    "%timeit for i in range(num_elements): z[i] = x[i] * y[i]\n"
   ]
  },
  {
   "cell_type": "code",
   "execution_count": 13,
   "metadata": {},
   "outputs": [
    {
     "name": "stdout",
     "output_type": "stream",
     "text": [
      "444 ns ± 1.47 ns per loop (mean ± std. dev. of 7 runs, 1000000 loops each)\n"
     ]
    }
   ],
   "source": [
    "# then the same thing using matrix operations\n",
    "%timeit z = x*y"
   ]
  },
  {
   "cell_type": "markdown",
   "metadata": {},
   "source": [
    "## a few super common operations..."
   ]
  },
  {
   "cell_type": "code",
   "execution_count": 14,
   "metadata": {},
   "outputs": [
    {
     "name": "stdout",
     "output_type": "stream",
     "text": [
      "328350\n",
      "328350\n"
     ]
    }
   ],
   "source": [
    "# use dot for matrix multiplication (not elementwise) - .T is transpose and this is sum-of-squares!\n",
    "print(x.dot(x.T))  # sum of x[i]*x[i] for i=1:N\n",
    "\n",
    "# sum of x*y for all x,y\n",
    "print(x.dot(y.T)) "
   ]
  },
  {
   "cell_type": "code",
   "execution_count": 5,
   "metadata": {},
   "outputs": [
    {
     "name": "stdout",
     "output_type": "stream",
     "text": [
      "Shape of X (5, 4) Shape of Y (5, 4)\n"
     ]
    },
    {
     "data": {
      "text/plain": [
       "array([[ 140.,  164.,  188.,  212.,  236.],\n",
       "       [ 500.,  588.,  676.,  764.,  852.],\n",
       "       [ 860., 1012., 1164., 1316., 1468.],\n",
       "       [1220., 1436., 1652., 1868., 2084.],\n",
       "       [1580., 1860., 2140., 2420., 2700.]])"
      ]
     },
     "execution_count": 5,
     "metadata": {},
     "output_type": "execute_result"
    }
   ],
   "source": [
    "# matrix multiply\n",
    "X = np.arange(20).reshape(5,4)\n",
    "Y = np.linspace(21,40,20).reshape(5,4)\n",
    "print('Shape of X', X.shape, 'Shape of Y', Y.shape)\n",
    "\n",
    "X.dot(Y.T)         # transpose so that columns == rows\n",
    "# np.dot(X,Y.T)    # same thing...\n",
    "# np.matmul(X,Y.T) # also the same thing "
   ]
  },
  {
   "cell_type": "markdown",
   "metadata": {},
   "source": [
    "## Another example of common computation done with loops vs numpy (and intro to list comprehensions) \n",
    "\n",
    "Inner and Outer Products\n",
    "\n",
    "The inner or dot product of two vectors is the sum of each element in x1 times its corresponding elements in x2 (vectors must be the same length) resulting in a scalar\n",
    "\n",
    "![inner product](https://wikimedia.org/api/rest_v1/media/math/render/svg/f34a08cf90c047dda30221011ab45936957431c3)\n",
    "\n",
    "The outer product of two vectors results in a square matrix of side length == len(x1) == len(x2)\n",
    "\n",
    "![outer product](https://wikimedia.org/api/rest_v1/media/math/render/svg/583d2f9f02f2644aa0acd092a29a9d0e49df1b4a)"
   ]
  },
  {
   "cell_type": "code",
   "execution_count": 15,
   "metadata": {},
   "outputs": [],
   "source": [
    "# first make our vectors\n",
    "x1 = np.arange(15)\n",
    "x2 = np.arange(15)"
   ]
  },
  {
   "cell_type": "code",
   "execution_count": null,
   "metadata": {},
   "outputs": [],
   "source": [
    "p_in = [] # initialize empty list\n",
    "\n",
    "# test to make sure that the two lists are the same length \n",
    "assert (len(x1)==len(x2)), 'Lists must be the same length!'\n",
    "\n",
    "for i in range(len(x1)): # iterate through indicies of vectors\n",
    "    p_in.append(x1[i]*x2[i])\n",
    "    \n",
    "print('Inner Product: %d' %sum(p_in)) # Print Output\n",
    "\n",
    "# outer product\n",
    "p_out = [] # initialize empty list\n",
    "\n",
    "assert (len(x1)==len(x2)), 'Lists must be the same length!'\n",
    "\n",
    "for i in range(len(x1)): # iterate through indicies of vectors\n",
    "    row = [] # initialize sub list\n",
    "    for j in range(len(x2)):\n",
    "        row.append(x1[i]*x2[j])\n",
    "        \n",
    "    p_out.append(row)\n",
    "\n",
    "print('Outer Product:') # Print Output\n",
    "p_out"
   ]
  },
  {
   "cell_type": "markdown",
   "metadata": {},
   "source": [
    "# List Comprehensions\n",
    "[more info on list comprehensions](https://www.pythonforbeginners.com/basics/list-comprehensions-in-python)\n",
    "\n",
    "A more compact way to perform these operations is through \"list comprehension\" which essentially compresses a for-loop into a single line. As with the above example, the operation can be nested. Note - we're using this on numpy arrays here, not python lists, so the name 'list comprehensions' might be a little confusing. \n",
    "\n",
    "[see here for more on the difference between python lists and numpy arrays](https://webcourses.ucf.edu/courses/1249560/pages/python-lists-vs-numpy-arrays-what-is-the-difference)"
   ]
  },
  {
   "cell_type": "code",
   "execution_count": null,
   "metadata": {},
   "outputs": [],
   "source": [
    "c_in = [x1[i]*x2[i] for i in range(len(x1))]\n",
    "print('Inner Product: %d' %sum(c_in))\n",
    "\n",
    "c_out = [[x1[i]*x2[j] for j in range(len(x2))]for i in range(len(x1))]\n",
    "print('Outer Product:') # Print Output\n",
    "c_out"
   ]
  },
  {
   "cell_type": "markdown",
   "metadata": {},
   "source": [
    "## even though list comprehensions provide a nice compact way to do this, here is the numpy way..."
   ]
  },
  {
   "cell_type": "code",
   "execution_count": null,
   "metadata": {},
   "outputs": [],
   "source": [
    "n_in = np.inner(x1,x2)\n",
    "n_out = np.outer(x1,x2)\n",
    "\n",
    "print('Inner Product: %d' %n_in)\n",
    "print('Outer Product:')\n",
    "n_out"
   ]
  }
 ],
 "metadata": {
  "kernelspec": {
   "display_name": "Python 3",
   "language": "python",
   "name": "python3"
  },
  "language_info": {
   "codemirror_mode": {
    "name": "ipython",
    "version": 3
   },
   "file_extension": ".py",
   "mimetype": "text/x-python",
   "name": "python",
   "nbconvert_exporter": "python",
   "pygments_lexer": "ipython3",
   "version": "3.8.5"
  }
 },
 "nbformat": 4,
 "nbformat_minor": 2
}
