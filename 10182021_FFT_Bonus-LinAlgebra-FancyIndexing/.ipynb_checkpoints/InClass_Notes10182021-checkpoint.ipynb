{
 "cells": [
  {
   "cell_type": "markdown",
   "metadata": {},
   "source": [
    "# FFT tutorial using numpy (and a bit more on plotting)\n",
    "* FFT is a linear transform of the data from the time domain to the frequency domain. You can move back and forth without losing any information\n",
    "* FFT allows you to understand how much activity (power or amplitude) in different frequency bands is in your data - very useful especially for cyclical data like cortical oscillations or other periodic signals in timeseries data (housing market, weather, whatever)...\n",
    "* Can think about this (a bit loosely) as computing the correlation or dot product between the time domain signal and a series of sinusoids at different frequencies and different phases  \n",
    "\n",
    "[scipy doc](https://docs.scipy.org/doc/numpy/reference/routines.fft.html)\n",
    "\n",
    "![nice figure of concept](http://www.spektrumanalizoru.com/images/time_vs_freq1.gif)\n",
    "\n",
    "![nice animation](https://upload.wikimedia.org/wikipedia/commons/7/72/Fourier_transform_time_and_frequency_domains_%28small%29.gif)\n",
    "\n",
    "![moon cycle](http://individual.utoronto.ca/kalendis/lunar/Waxing-Waning-periodic.gif)\n",
    "\n",
    "\n",
    "![tides](https://www.nauticed.org/images/navclinic/sandiegotide.jpg)\n",
    "\n",
    "* We can represent the amplitude (or power) and the phase of the sinusoid at each frequency by representing it on a complex plane. This is just like a normal X,Y Cartesian plane, but the X axis is a real number and the Y axis is an imaginary number\n",
    "\n",
    "\n",
    "![polar coordinate interpretation](http://www.secretmango.com/jimb/Whitepapers/fft/notation_2.gif)\n",
    "\n",
    "\n",
    "[website with nice geometric interpretation of dot product](https://jackschaedler.github.io/circles-sines-signals/dotproduct.html)\n",
    "\n",
    "\n",
    "Equation for dot product: \n",
    "$\\sum_{n=0}^{N-1} a[n] \\cdot b[n]$"
   ]
  },
  {
   "cell_type": "code",
   "execution_count": null,
   "metadata": {},
   "outputs": [],
   "source": [
    "# general modules we'll use\n",
    "import numpy as np\n",
    "from numpy import pi\n",
    "import matplotlib.pyplot as plt\n",
    "\n",
    "# also define the default font we'll use for figures.\n",
    "font = {'family' : 'DejaVu Sans',\n",
    "        'weight' : 'normal',\n",
    "        'size'   : 24}\n",
    "\n",
    "# then set the figure attributes\n",
    "plt.rc('font', **font)"
   ]
  },
  {
   "cell_type": "code",
   "execution_count": null,
   "metadata": {},
   "outputs": [],
   "source": []
  }
 ],
 "metadata": {
  "kernelspec": {
   "display_name": "Python 3",
   "language": "python",
   "name": "python3"
  },
  "language_info": {
   "codemirror_mode": {
    "name": "ipython",
    "version": 3
   },
   "file_extension": ".py",
   "mimetype": "text/x-python",
   "name": "python",
   "nbconvert_exporter": "python",
   "pygments_lexer": "ipython3",
   "version": "3.8.5"
  }
 },
 "nbformat": 4,
 "nbformat_minor": 4
}
