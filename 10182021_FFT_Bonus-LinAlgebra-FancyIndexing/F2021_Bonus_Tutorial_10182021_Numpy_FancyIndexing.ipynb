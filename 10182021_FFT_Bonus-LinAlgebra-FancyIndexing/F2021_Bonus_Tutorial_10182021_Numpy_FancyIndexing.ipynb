{
 "cells": [
  {
   "cell_type": "markdown",
   "metadata": {},
   "source": [
    "# Indexing and slicing and iterating in NumPy"
   ]
  },
  {
   "cell_type": "code",
   "execution_count": null,
   "metadata": {},
   "outputs": [],
   "source": [
    "# import numpy\n",
    "import numpy as np"
   ]
  },
  {
   "cell_type": "code",
   "execution_count": null,
   "metadata": {},
   "outputs": [],
   "source": [
    "# create a 1d array\n",
    "x = np.linspace(0,9,10)\n",
    "print(x)\n",
    "x[1]                     # just the second entry, remember 0 based indexing\n",
    "\n",
    "# specific start and stop points (exclusive)\n",
    "x[0:2]                   # the first and second entries in the array, so N>=0 and N<2 (note the < upper bound - not inclusive)\n",
    "\n",
    "# assign the 2nd - 4th element to 100 (index 1,2,3)\n",
    "x[1:4] = 100               \n",
    "print(x[1:4])\n",
    "\n",
    "# start, stop, step interval\n",
    "print(x[0:8:2])\n",
    "\n",
    "# reverse x\n",
    "print(x[::-1])\n",
    "\n",
    "# iterate over all elements in x\n",
    "for i in x:\n",
    "    print(i*3)    # then i takes the value of each element in x\n",
    "    "
   ]
  },
  {
   "cell_type": "markdown",
   "metadata": {},
   "source": [
    "## multidimentional array indexing, slicing etc"
   ]
  },
  {
   "cell_type": "code",
   "execution_count": null,
   "metadata": {},
   "outputs": [],
   "source": [
    "# x = np.round(np.random.rand(10,5)*10)   # generate a matrix of uniformly distributed random numbers over 0:10\n",
    "# print(x)\n",
    "\n",
    "# x[0,0]     # first row, first column\n",
    "# x[2,3]     # third row, 4th column\n",
    "\n",
    "# x[:, 3]    # all entries in the 4th column \n",
    "# x[3, :]    # all entries in the 4th row\n",
    "# x[0:2, 4]  # first two entries of the 5th column\n",
    "# x[6, 2:4]  # 7th row, 3rd and 4th entries. \n",
    "\n",
    "# x[6]       # if not all dims specified then missing values are considered complete slices\n",
    "# x[6,]      # these three ways of writing all do the same thing...\n",
    "# x[6,:]\n",
    "\n",
    "# # tricks...\n",
    "# print('last row: ', x[-1,:])     # last row\n",
    "# print('last column: ', x[:,-1])  # last column\n",
    "# print('last entry: ', x[-1,-1])  # last value\n",
    "\n",
    "# iterating goes over the first dim (rows)\n",
    "for r in x:\n",
    "     print(r)\n",
    "        \n",
    "# can also iterate over all entries in the array using 'flat'\n",
    "# will proceed along 1st row, then to 2nd row, etc. \n",
    "for a in x.flat:\n",
    "    print(a)"
   ]
  },
  {
   "cell_type": "markdown",
   "metadata": {},
   "source": [
    "## pull out subset of rows and columns"
   ]
  },
  {
   "cell_type": "code",
   "execution_count": null,
   "metadata": {},
   "outputs": [],
   "source": [
    "# generate a matrix of random numbers over 0-1\n",
    "x = np.random.rand(4,3) \n",
    "print(x)\n",
    "\n",
    "# first two rows - note that you don't have to specify the 2nd dim - and note that \n",
    "# '2' here means rows 0 and 1 (not 0 through 2!)\n",
    "y = x[:2] \n",
    "print('\\n', y)\n",
    "\n",
    "# can also take the last two rows...in the same manner...in this case rows 3 and 4\n",
    "y = x[2:] \n",
    "print('\\n', y)\n",
    "\n",
    "# first two rows, 1st column\n",
    "y = x[:2,0] \n",
    "print('\\n', y)\n",
    "\n",
    "# rows 3 - end, columns 2 - end\n",
    "y = x[2:,1:]\n",
    "print('\\n', y)"
   ]
  },
  {
   "cell_type": "markdown",
   "metadata": {},
   "source": [
    "<div class=\"alert alert-info\">\n",
    "important - slicing an array creates a view of it! if you change the view, you also will change the original data!\n",
    "</div>"
   ]
  },
  {
   "cell_type": "code",
   "execution_count": null,
   "metadata": {},
   "outputs": [],
   "source": [
    "z = x[:,]\n",
    "print(z.shape)\n",
    "\n",
    "# change all values in z using [:]\n",
    "z[:]=100     # so if you change data in z it will also change in x\n",
    "\n",
    "print(x)"
   ]
  },
  {
   "cell_type": "markdown",
   "metadata": {},
   "source": [
    "## Fancy indexing...using arrays to index arrays - used all the time in data analysis..."
   ]
  },
  {
   "cell_type": "markdown",
   "metadata": {},
   "source": [
    "<div class=\"alert alert-info\">\n",
    "fancy indexing always makes a COPY of the data (unlike slicing which creates a view)!!!\n",
    "</div>"
   ]
  },
  {
   "cell_type": "code",
   "execution_count": null,
   "metadata": {},
   "outputs": [],
   "source": [
    "# define an array\n",
    "x = np.random.rand(3,4)\n",
    "\n",
    "# index array - can be a tuple\n",
    "y = (2,3)\n",
    "\n",
    "# index\n",
    "print(x)\n",
    "print('\\n x indexed at tuple y: ', x[y])"
   ]
  },
  {
   "cell_type": "code",
   "execution_count": null,
   "metadata": {},
   "outputs": [],
   "source": [
    "# can use fancy indexing to extract elements in a particular order\n",
    "print(x)\n",
    "\n",
    "# this will extract the 3rd row, then the 2nd row, then the first row\n",
    "x[[2,1,0]]\n",
    "\n",
    "# and this will extract all rows from the 2nd, 3rd and then 1st column. \n",
    "x[:,[1,2,0]]"
   ]
  },
  {
   "cell_type": "code",
   "execution_count": null,
   "metadata": {},
   "outputs": [],
   "source": [
    "# or can pass in multiple arrays...will return a 1D array \n",
    "# corresponding to each set of tuples (1,1) and (2,2) in this case\n",
    "print(x)\n",
    "x[[1,2],[1,2]]"
   ]
  },
  {
   "cell_type": "markdown",
   "metadata": {},
   "source": [
    "<div class=\"alert alert-info\">\n",
    "As opposed to selecting a set of tuples, you can also select a block of indices from a matrix. \n",
    "</div>"
   ]
  },
  {
   "cell_type": "code",
   "execution_count": null,
   "metadata": {},
   "outputs": [],
   "source": [
    "# grab the lower right chunk of data. \n",
    "print(x, '\\n')\n",
    "\n",
    "#print(x[:2,2:4],'\\n')\n",
    "print(x[[1,2]][:,[2,3]])  # 2nd term here extracts all rows from columns, first arg says restrict to last two rows. "
   ]
  },
  {
   "cell_type": "code",
   "execution_count": null,
   "metadata": {},
   "outputs": [],
   "source": []
  }
 ],
 "metadata": {
  "kernelspec": {
   "display_name": "Python 3",
   "language": "python",
   "name": "python3"
  },
  "language_info": {
   "codemirror_mode": {
    "name": "ipython",
    "version": 3
   },
   "file_extension": ".py",
   "mimetype": "text/x-python",
   "name": "python",
   "nbconvert_exporter": "python",
   "pygments_lexer": "ipython3",
   "version": "3.8.5"
  }
 },
 "nbformat": 4,
 "nbformat_minor": 2
}
